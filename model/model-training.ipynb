{
 "cells": [
  {
   "cell_type": "code",
   "execution_count": 1,
   "id": "071fc29c",
   "metadata": {},
   "outputs": [],
   "source": [
    "import numpy as np\n",
    "import pandas as pd\n",
    "import seaborn as sns\n",
    "import matplotlib.pyplot as plt\n",
    "from sklearn.model_selection import train_test_split\n",
    "from sklearn.metrics import accuracy_score, classification_report, confusion_matrix\n",
    "import re\n",
    "import string"
   ]
  },
  {
   "cell_type": "code",
   "execution_count": 2,
   "id": "eb70f986",
   "metadata": {},
   "outputs": [],
   "source": [
    "from sklearn.feature_extraction.text import TfidfVectorizer\n",
    "\n",
    "from sklearn.linear_model import LogisticRegression\n",
    "from sklearn.tree import DecisionTreeClassifier\n",
    "from sklearn.ensemble import GradientBoostingClassifier, RandomForestClassifier"
   ]
  },
  {
   "cell_type": "markdown",
   "id": "62568a6a",
   "metadata": {},
   "source": [
    "Load dataset"
   ]
  },
  {
   "cell_type": "code",
   "execution_count": 3,
   "id": "30cac7b9",
   "metadata": {},
   "outputs": [],
   "source": [
    "df_train = pd.read_csv('dataset/train.csv')\n",
    "df_test = pd.read_csv('dataset/test.csv')"
   ]
  },
  {
   "cell_type": "markdown",
   "id": "90bc97a8",
   "metadata": {},
   "source": [
    "Tương quan giữa các class 0 (fake news) và 1 (true news) trên tập train"
   ]
  },
  {
   "cell_type": "code",
   "execution_count": 4,
   "id": "c8801789",
   "metadata": {},
   "outputs": [
    {
     "data": {
      "image/png": "[encoded data removed]",
      "text/plain": [
       "<Figure size 432x288 with 1 Axes>"
      ]
     },
     "metadata": {
      "needs_background": "light"
     },
     "output_type": "display_data"
    }
   ],
   "source": [
    "plt.figure()\n",
    "plt.hist(df_train['class'])\n",
    "plt.xticks(df_train['class'].unique())\n",
    "plt.show()"
   ]
  },
  {
   "cell_type": "markdown",
   "id": "97403dda",
   "metadata": {},
   "source": [
    "Số lượng item của mỗi tập xấp xỉ nhau nên không sợ unbalanced."
   ]
  },
  {
   "cell_type": "markdown",
   "id": "981a81cf",
   "metadata": {},
   "source": [
    "## Tiền xử lý text\n",
    "Gồm các bước sau:\n",
    "- Chuyển text về dạng lowercase.\n",
    "- Loại bỏ các dấu ngoặc.\n",
    "- Loại bỏ các ký tự đặc biệt (chỉ cho phép a-z, A-Z, 0-9), thay thế bằng dấu cách.\n",
    "- Loại bỏ html tags.\n",
    "- Loại bỏ dấu câu (string punctuations).\n",
    "- Loại bỏ dấu xuống dòng.\n",
    "- Loại bỏ số trong câu."
   ]
  },
  {
   "cell_type": "code",
   "execution_count": 5,
   "id": "7e18e211",
   "metadata": {},
   "outputs": [],
   "source": [
    "def preprocess(text):\n",
    "    punctuations = '[{0}]'.format(string.punctuation)\n",
    "    \n",
    "    text = text.lower()\n",
    "    text = re.sub('\\[.*?\\]', '', text)\n",
    "    text = re.sub('\\\\W', ' ', text)\n",
    "    text = re.sub('https?://\\S+|www\\.\\S+', '', text)\n",
    "    text = re.sub('<.*?>+', '', text)\n",
    "    text = re.sub(punctuations, '', text)\n",
    "    text = re.sub('\\n', '', text)\n",
    "    text = re.sub('\\w*\\d\\w*', '', text)\n",
    "    \n",
    "    return text"
   ]
  },
  {
   "cell_type": "markdown",
   "id": "ee994e25",
   "metadata": {},
   "source": [
    "Áp dụng text preprocessing với df_train"
   ]
  },
  {
   "cell_type": "code",
   "execution_count": 6,
   "id": "87e8390f",
   "metadata": {},
   "outputs": [
    {
     "data": {
      "text/plain": [
       "0        moscow  reuters    russia and the united state...\n",
       "1        republican rep  steve king  the base is going ...\n",
       "2        monrovia  reuters    liberia s ruling party  w...\n",
       "3        washington  reuters    u s  senators stressed ...\n",
       "4        why are banking powerhouses  european prime mi...\n",
       "                               ...                        \n",
       "44873    abuja  reuters    the united states has formal...\n",
       "44874    tune in to the alternate current radio network...\n",
       "44875    the main stream media chooses to ignore the fa...\n",
       "44876    washington  reuters    the republican tax plan...\n",
       "44877    sydney  reuters    the u n  high commissioner ...\n",
       "Name: text, Length: 44878, dtype: object"
      ]
     },
     "execution_count": 6,
     "metadata": {},
     "output_type": "execute_result"
    }
   ],
   "source": [
    "df_train['text'].apply(preprocess)"
   ]
  },
  {
   "cell_type": "markdown",
   "id": "f102f86f",
   "metadata": {},
   "source": [
    "## Train model\n",
    "\n",
    "Chia tập train thành train và validate."
   ]
  },
  {
   "cell_type": "code",
   "execution_count": 7,
   "id": "4d86ece8",
   "metadata": {},
   "outputs": [],
   "source": [
    "X = df_train['text']\n",
    "y = df_train['class']"
   ]
  },
  {
   "cell_type": "code",
   "execution_count": 8,
   "id": "8dac15aa",
   "metadata": {},
   "outputs": [],
   "source": [
    "X_train, X_test, y_train, y_test = train_test_split(X, y, test_size = 0.3, random_state = 42)"
   ]
  },
  {
   "cell_type": "markdown",
   "id": "3f1eaa84",
   "metadata": {},
   "source": [
    "X cần được chuyển thành vector trước khi đưa vào các model. Ở đây ta dùng TF-IDF vectorizer."
   ]
  },
  {
   "cell_type": "code",
   "execution_count": 9,
   "id": "93b3f5c1",
   "metadata": {},
   "outputs": [],
   "source": [
    "vectorizer = TfidfVectorizer()\n",
    "XVector_train = vectorizer.fit_transform(X_train)\n",
    "\n",
    "# Test không có fit!\n",
    "XVector_test = vectorizer.transform(X_test)"
   ]
  },
  {
   "cell_type": "code",
   "execution_count": 10,
   "id": "a7ad82df",
   "metadata": {},
   "outputs": [],
   "source": [
    "# Export vectorizer ra file pickle"
   ]
  },
  {
   "cell_type": "markdown",
   "id": "cd40eeeb",
   "metadata": {},
   "source": [
    "### Logistic Regression"
   ]
  },
  {
   "cell_type": "code",
   "execution_count": 11,
   "id": "68fc22ea",
   "metadata": {},
   "outputs": [
    {
     "data": {
      "text/plain": [
       "LogisticRegression()"
      ]
     },
     "execution_count": 11,
     "metadata": {},
     "output_type": "execute_result"
    }
   ],
   "source": [
    "logistic_model = LogisticRegression()\n",
    "logistic_model.fit(XVector_train, y_train)"
   ]
  },
  {
   "cell_type": "code",
   "execution_count": 12,
   "id": "cd9a4b1d",
   "metadata": {},
   "outputs": [
    {
     "data": {
      "text/plain": [
       "0.9852941176470589"
      ]
     },
     "execution_count": 12,
     "metadata": {},
     "output_type": "execute_result"
    }
   ],
   "source": [
    "logistic_model.score(XVector_test, y_test)"
   ]
  },
  {
   "cell_type": "code",
   "execution_count": 13,
   "id": "00d998b1",
   "metadata": {},
   "outputs": [
    {
     "name": "stdout",
     "output_type": "stream",
     "text": [
      "              precision    recall  f1-score   support\n",
      "\n",
      "           0       0.99      0.98      0.99      6967\n",
      "           1       0.98      0.99      0.98      6497\n",
      "\n",
      "    accuracy                           0.99     13464\n",
      "   macro avg       0.99      0.99      0.99     13464\n",
      "weighted avg       0.99      0.99      0.99     13464\n",
      "\n"
     ]
    }
   ],
   "source": [
    "predict_logistic_regression = logistic_model.predict(XVector_test)\n",
    "print(classification_report(y_test, predict_logistic_regression))"
   ]
  },
  {
   "cell_type": "code",
   "execution_count": 14,
   "id": "c3a13dc9",
   "metadata": {},
   "outputs": [
    {
     "data": {
      "image/png": "[encoded data removed]",
      "text/plain": [
       "<Figure size 432x288 with 2 Axes>"
      ]
     },
     "metadata": {
      "needs_background": "light"
     },
     "output_type": "display_data"
    }
   ],
   "source": [
    "logistic_cm = confusion_matrix(y_test, predict_logistic_regression)\n",
    "sns.heatmap(logistic_cm, annot = True)\n",
    "plt.show()"
   ]
  },
  {
   "cell_type": "code",
   "execution_count": 15,
   "id": "bc80a9a8",
   "metadata": {},
   "outputs": [],
   "source": [
    "# Export model ra file pickle"
   ]
  },
  {
   "cell_type": "markdown",
   "id": "c218d3eb",
   "metadata": {},
   "source": [
    "### Decision Tree Classification"
   ]
  },
  {
   "cell_type": "code",
   "execution_count": 16,
   "id": "6a208d69",
   "metadata": {},
   "outputs": [
    {
     "data": {
      "text/plain": [
       "DecisionTreeClassifier()"
      ]
     },
     "execution_count": 16,
     "metadata": {},
     "output_type": "execute_result"
    }
   ],
   "source": [
    "decision_model = DecisionTreeClassifier()\n",
    "decision_model.fit(XVector_train, y_train)"
   ]
  },
  {
   "cell_type": "code",
   "execution_count": 17,
   "id": "018533dc",
   "metadata": {},
   "outputs": [
    {
     "data": {
      "text/plain": [
       "0.9961378490790256"
      ]
     },
     "execution_count": 17,
     "metadata": {},
     "output_type": "execute_result"
    }
   ],
   "source": [
    "decision_model.score(XVector_test, y_test)"
   ]
  },
  {
   "cell_type": "code",
   "execution_count": 18,
   "id": "b6e67fd5",
   "metadata": {},
   "outputs": [
    {
     "name": "stdout",
     "output_type": "stream",
     "text": [
      "              precision    recall  f1-score   support\n",
      "\n",
      "           0       0.99      1.00      1.00      6967\n",
      "           1       1.00      0.99      1.00      6497\n",
      "\n",
      "    accuracy                           1.00     13464\n",
      "   macro avg       1.00      1.00      1.00     13464\n",
      "weighted avg       1.00      1.00      1.00     13464\n",
      "\n"
     ]
    }
   ],
   "source": [
    "predict_decision_tree = decision_model.predict(XVector_test)\n",
    "print(classification_report(y_test, predict_decision_tree))"
   ]
  },
  {
   "cell_type": "code",
   "execution_count": 19,
   "id": "b6152cd6",
   "metadata": {},
   "outputs": [
    {
     "data": {
      "image/png": "[encoded data removed]",
      "text/plain": [
       "<Figure size 432x288 with 2 Axes>"
      ]
     },
     "metadata": {
      "needs_background": "light"
     },
     "output_type": "display_data"
    }
   ],
   "source": [
    "decision_cm = confusion_matrix(y_test, predict_decision_tree)\n",
    "sns.heatmap(decision_cm, annot = True)\n",
    "plt.show()"
   ]
  },
  {
   "cell_type": "markdown",
   "id": "6c8f886a",
   "metadata": {},
   "source": [
    "Nhận xét: Accuracy tăng, model này tốt hơn Logistic Regression."
   ]
  },
  {
   "cell_type": "code",
   "execution_count": 20,
   "id": "4ce9346c",
   "metadata": {},
   "outputs": [],
   "source": [
    "# Export ra file pickle"
   ]
  }
 ],
 "metadata": {
  "kernelspec": {
   "display_name": "Python 3 (ipykernel)",
   "language": "python",
   "name": "python3"
  },
  "language_info": {
   "codemirror_mode": {
    "name": "ipython",
    "version": 3
   },
   "file_extension": ".py",
   "mimetype": "text/x-python",
   "name": "python",
   "nbconvert_exporter": "python",
   "pygments_lexer": "ipython3",
   "version": "3.9.7"
  }
 },
 "nbformat": 4,
 "nbformat_minor": 5
}
