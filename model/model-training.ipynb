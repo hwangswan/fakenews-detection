{
 "cells": [
  {
   "cell_type": "code",
   "execution_count": 1,
   "id": "071fc29c",
   "metadata": {},
   "outputs": [],
   "source": [
    "import numpy as np\n",
    "import pandas as pd\n",
    "import seaborn as sns\n",
    "import matplotlib.pyplot as plt\n",
    "from sklearn.model_selection import train_test_split\n",
    "from sklearn.metrics import accuracy_score, classification_report, confusion_matrix\n",
    "import re\n",
    "import string"
   ]
  },
  {
   "cell_type": "code",
   "execution_count": 2,
   "id": "eb70f986",
   "metadata": {},
   "outputs": [],
   "source": [
    "from sklearn.feature_extraction.text import TfidfVectorizer\n",
    "\n",
    "# Cho Linear Regression\n",
    "from sklearn.linear_model import LogisticRegression\n",
    "\n",
    "# Cho Decision Tree\n",
    "from sklearn.tree import DecisionTreeClassifier\n",
    "\n",
    "# Cho Random Forest và Gradient Boosting\n",
    "from sklearn.ensemble import GradientBoostingClassifier, RandomForestClassifier\n",
    "\n",
    "# Cho thuật KNN\n",
    "from sklearn.neighbors import KNeighborsClassifier\n",
    "\n",
    "# Cho Naive Bayes\n",
    "from sklearn.naive_bayes import MultinomialNB\n",
    "\n",
    "# Cho Support Vector Machine\n",
    "from sklearn.svm import SVC"
   ]
  },
  {
   "cell_type": "markdown",
   "id": "62568a6a",
   "metadata": {},
   "source": [
    "Load dataset (xài bộ Fakenews Detection của Kaggle - https://www.kaggle.com/therealsampat/fake-news-detection/notebook)"
   ]
  },
  {
   "cell_type": "code",
   "execution_count": 3,
   "id": "30cac7b9",
   "metadata": {},
   "outputs": [],
   "source": [
    "df_train = pd.read_csv('dataset/train.csv')\n",
    "df_test = pd.read_csv('dataset/test.csv')"
   ]
  },
  {
   "cell_type": "markdown",
   "id": "90bc97a8",
   "metadata": {},
   "source": [
    "Tương quan giữa các class 0 (fake news) và 1 (true news) trên tập train"
   ]
  },
  {
   "cell_type": "code",
   "execution_count": 4,
   "id": "c8801789",
   "metadata": {},
   "outputs": [
    {
     "data": {
      "image/png": "[encoded data removed]",
      "text/plain": [
       "<Figure size 432x288 with 1 Axes>"
      ]
     },
     "metadata": {
      "needs_background": "light"
     },
     "output_type": "display_data"
    }
   ],
   "source": [
    "plt.figure()\n",
    "plt.hist(df_train['class'])\n",
    "plt.xticks(df_train['class'].unique())\n",
    "plt.show()"
   ]
  },
  {
   "cell_type": "markdown",
   "id": "97403dda",
   "metadata": {},
   "source": [
    "Số lượng item của mỗi tập xấp xỉ nhau nên không sợ unbalanced."
   ]
  },
  {
   "cell_type": "markdown",
   "id": "981a81cf",
   "metadata": {},
   "source": [
    "## Tiền xử lý text\n",
    "Gồm các bước sau:\n",
    "- Chuyển text về dạng lowercase.\n",
    "- Loại bỏ các dấu ngoặc.\n",
    "- Loại bỏ các ký tự đặc biệt (chỉ cho phép a-z, A-Z, 0-9), thay thế bằng dấu cách.\n",
    "- Loại bỏ html tags.\n",
    "- Loại bỏ dấu câu (string punctuations).\n",
    "- Loại bỏ dấu xuống dòng.\n",
    "- Loại bỏ số trong câu."
   ]
  },
  {
   "cell_type": "code",
   "execution_count": 5,
   "id": "7e18e211",
   "metadata": {},
   "outputs": [],
   "source": [
    "def preprocess(text):\n",
    "    punctuations = '[{0}]'.format(string.punctuation)\n",
    "    \n",
    "    text = text.lower()\n",
    "    text = re.sub('\\[.*?\\]', '', text)\n",
    "    text = re.sub('\\\\W', ' ', text)\n",
    "    text = re.sub('https?://\\S+|www\\.\\S+', '', text)\n",
    "    text = re.sub('<.*?>+', '', text)\n",
    "    text = re.sub(punctuations, '', text)\n",
    "    text = re.sub('\\n', '', text)\n",
    "    text = re.sub('\\w*\\d\\w*', '', text)\n",
    "    \n",
    "    return text"
   ]
  },
  {
   "cell_type": "markdown",
   "id": "ee994e25",
   "metadata": {},
   "source": [
    "Áp dụng text preprocessing với df_train"
   ]
  },
  {
   "cell_type": "code",
   "execution_count": 6,
   "id": "87e8390f",
   "metadata": {},
   "outputs": [
    {
     "data": {
      "text/plain": [
       "0        moscow  reuters    russia and the united state...\n",
       "1        republican rep  steve king  the base is going ...\n",
       "2        monrovia  reuters    liberia s ruling party  w...\n",
       "3        washington  reuters    u s  senators stressed ...\n",
       "4        why are banking powerhouses  european prime mi...\n",
       "                               ...                        \n",
       "44873    abuja  reuters    the united states has formal...\n",
       "44874    tune in to the alternate current radio network...\n",
       "44875    the main stream media chooses to ignore the fa...\n",
       "44876    washington  reuters    the republican tax plan...\n",
       "44877    sydney  reuters    the u n  high commissioner ...\n",
       "Name: text, Length: 44878, dtype: object"
      ]
     },
     "execution_count": 6,
     "metadata": {},
     "output_type": "execute_result"
    }
   ],
   "source": [
    "df_train['text'].apply(preprocess)"
   ]
  },
  {
   "cell_type": "markdown",
   "id": "f102f86f",
   "metadata": {},
   "source": [
    "## Train model\n",
    "\n",
    "Chia tập train thành train và validate."
   ]
  },
  {
   "cell_type": "code",
   "execution_count": 7,
   "id": "4d86ece8",
   "metadata": {},
   "outputs": [],
   "source": [
    "X = df_train['text']\n",
    "y = df_train['class']"
   ]
  },
  {
   "cell_type": "code",
   "execution_count": 8,
   "id": "8dac15aa",
   "metadata": {},
   "outputs": [],
   "source": [
    "X_train, X_test, y_train, y_test = train_test_split(X, y, test_size = 0.3, random_state = 42)"
   ]
  },
  {
   "cell_type": "markdown",
   "id": "3f1eaa84",
   "metadata": {},
   "source": [
    "X cần được chuyển thành vector trước khi đưa vào các model. Ở đây ta dùng TF-IDF vectorizer."
   ]
  },
  {
   "cell_type": "code",
   "execution_count": 9,
   "id": "93b3f5c1",
   "metadata": {},
   "outputs": [],
   "source": [
    "vectorizer = TfidfVectorizer()\n",
    "XVector_train = vectorizer.fit_transform(X_train)\n",
    "\n",
    "# Test không có fit!\n",
    "XVector_test = vectorizer.transform(X_test)"
   ]
  },
  {
   "cell_type": "code",
   "execution_count": 10,
   "id": "a7ad82df",
   "metadata": {},
   "outputs": [],
   "source": [
    "# Export vectorizer ra file pickle"
   ]
  },
  {
   "cell_type": "markdown",
   "id": "cd40eeeb",
   "metadata": {},
   "source": [
    "### sklearn.linear_model\n",
    "\n",
    "#### Logistic Regression"
   ]
  },
  {
   "cell_type": "code",
   "execution_count": 11,
   "id": "68fc22ea",
   "metadata": {},
   "outputs": [
    {
     "data": {
      "text/plain": [
       "LogisticRegression()"
      ]
     },
     "execution_count": 11,
     "metadata": {},
     "output_type": "execute_result"
    }
   ],
   "source": [
    "logistic_model = LogisticRegression()\n",
    "logistic_model.fit(XVector_train, y_train)"
   ]
  },
  {
   "cell_type": "code",
   "execution_count": 12,
   "id": "cd9a4b1d",
   "metadata": {},
   "outputs": [
    {
     "data": {
      "text/plain": [
       "0.9852941176470589"
      ]
     },
     "execution_count": 12,
     "metadata": {},
     "output_type": "execute_result"
    }
   ],
   "source": [
    "logistic_model.score(XVector_test, y_test)"
   ]
  },
  {
   "cell_type": "code",
   "execution_count": 13,
   "id": "00d998b1",
   "metadata": {},
   "outputs": [
    {
     "name": "stdout",
     "output_type": "stream",
     "text": [
      "              precision    recall  f1-score   support\n",
      "\n",
      "           0       0.99      0.98      0.99      6967\n",
      "           1       0.98      0.99      0.98      6497\n",
      "\n",
      "    accuracy                           0.99     13464\n",
      "   macro avg       0.99      0.99      0.99     13464\n",
      "weighted avg       0.99      0.99      0.99     13464\n",
      "\n"
     ]
    }
   ],
   "source": [
    "predict_logistic_regression = logistic_model.predict(XVector_test)\n",
    "print(classification_report(y_test, predict_logistic_regression))"
   ]
  },
  {
   "cell_type": "code",
   "execution_count": 14,
   "id": "c3a13dc9",
   "metadata": {},
   "outputs": [
    {
     "data": {
      "image/png": "[encoded data removed]",
      "text/plain": [
       "<Figure size 432x288 with 2 Axes>"
      ]
     },
     "metadata": {
      "needs_background": "light"
     },
     "output_type": "display_data"
    }
   ],
   "source": [
    "logistic_cm = confusion_matrix(y_test, predict_logistic_regression)\n",
    "sns.heatmap(logistic_cm, annot = True)\n",
    "plt.show()"
   ]
  },
  {
   "cell_type": "code",
   "execution_count": 15,
   "id": "bc80a9a8",
   "metadata": {},
   "outputs": [],
   "source": [
    "# Export model ra file pickle"
   ]
  },
  {
   "cell_type": "markdown",
   "id": "c218d3eb",
   "metadata": {},
   "source": [
    "### sklearn.tree\n",
    "\n",
    "#### Decision Tree Classification"
   ]
  },
  {
   "cell_type": "code",
   "execution_count": 16,
   "id": "6a208d69",
   "metadata": {},
   "outputs": [
    {
     "data": {
      "text/plain": [
       "DecisionTreeClassifier(random_state=42)"
      ]
     },
     "execution_count": 16,
     "metadata": {},
     "output_type": "execute_result"
    }
   ],
   "source": [
    "decision_model = DecisionTreeClassifier(random_state = 42)\n",
    "decision_model.fit(XVector_train, y_train)"
   ]
  },
  {
   "cell_type": "code",
   "execution_count": 17,
   "id": "018533dc",
   "metadata": {},
   "outputs": [
    {
     "data": {
      "text/plain": [
       "0.9955436720142602"
      ]
     },
     "execution_count": 17,
     "metadata": {},
     "output_type": "execute_result"
    }
   ],
   "source": [
    "decision_model.score(XVector_test, y_test)"
   ]
  },
  {
   "cell_type": "code",
   "execution_count": 18,
   "id": "b6e67fd5",
   "metadata": {},
   "outputs": [
    {
     "name": "stdout",
     "output_type": "stream",
     "text": [
      "              precision    recall  f1-score   support\n",
      "\n",
      "           0       0.99      1.00      1.00      6967\n",
      "           1       1.00      0.99      1.00      6497\n",
      "\n",
      "    accuracy                           1.00     13464\n",
      "   macro avg       1.00      1.00      1.00     13464\n",
      "weighted avg       1.00      1.00      1.00     13464\n",
      "\n"
     ]
    }
   ],
   "source": [
    "predict_decision_tree = decision_model.predict(XVector_test)\n",
    "print(classification_report(y_test, predict_decision_tree))"
   ]
  },
  {
   "cell_type": "code",
   "execution_count": 19,
   "id": "b6152cd6",
   "metadata": {
    "scrolled": true
   },
   "outputs": [
    {
     "data": {
      "image/png": "[encoded data removed]",
      "text/plain": [
       "<Figure size 432x288 with 2 Axes>"
      ]
     },
     "metadata": {
      "needs_background": "light"
     },
     "output_type": "display_data"
    }
   ],
   "source": [
    "decision_cm = confusion_matrix(y_test, predict_decision_tree)\n",
    "sns.heatmap(decision_cm, annot = True)\n",
    "plt.show()"
   ]
  },
  {
   "cell_type": "markdown",
   "id": "6c8f886a",
   "metadata": {},
   "source": [
    "Nhận xét: Accuracy tăng, model này tốt hơn Logistic Regression."
   ]
  },
  {
   "cell_type": "code",
   "execution_count": 20,
   "id": "4ce9346c",
   "metadata": {},
   "outputs": [],
   "source": [
    "# Export ra file pickle"
   ]
  },
  {
   "cell_type": "markdown",
   "id": "0a9457ae",
   "metadata": {},
   "source": [
    "### sklearn.ensemble\n",
    "\n",
    "#### Gradient Boosting Classification"
   ]
  },
  {
   "cell_type": "code",
   "execution_count": 21,
   "id": "e5b40b31",
   "metadata": {},
   "outputs": [
    {
     "data": {
      "text/plain": [
       "GradientBoostingClassifier(random_state=42)"
      ]
     },
     "execution_count": 21,
     "metadata": {},
     "output_type": "execute_result"
    }
   ],
   "source": [
    "gradient_model = GradientBoostingClassifier(random_state = 42)\n",
    "gradient_model.fit(XVector_train, y_train)"
   ]
  },
  {
   "cell_type": "code",
   "execution_count": 22,
   "id": "f425a0f5",
   "metadata": {},
   "outputs": [
    {
     "data": {
      "text/plain": [
       "0.9956179441473559"
      ]
     },
     "execution_count": 22,
     "metadata": {},
     "output_type": "execute_result"
    }
   ],
   "source": [
    "gradient_model.score(XVector_test, y_test)"
   ]
  },
  {
   "cell_type": "code",
   "execution_count": 23,
   "id": "b75a25c4",
   "metadata": {},
   "outputs": [
    {
     "name": "stdout",
     "output_type": "stream",
     "text": [
      "              precision    recall  f1-score   support\n",
      "\n",
      "           0       1.00      1.00      1.00      6967\n",
      "           1       0.99      1.00      1.00      6497\n",
      "\n",
      "    accuracy                           1.00     13464\n",
      "   macro avg       1.00      1.00      1.00     13464\n",
      "weighted avg       1.00      1.00      1.00     13464\n",
      "\n"
     ]
    }
   ],
   "source": [
    "predict_gradient_boosting = gradient_model.predict(XVector_test)\n",
    "print(classification_report(y_test, predict_gradient_boosting))"
   ]
  },
  {
   "cell_type": "code",
   "execution_count": 24,
   "id": "a3b2adb3",
   "metadata": {
    "scrolled": true
   },
   "outputs": [
    {
     "data": {
      "image/png": "[encoded data removed]",
      "text/plain": [
       "<Figure size 432x288 with 2 Axes>"
      ]
     },
     "metadata": {
      "needs_background": "light"
     },
     "output_type": "display_data"
    }
   ],
   "source": [
    "gradient_cm = confusion_matrix(y_test, predict_gradient_boosting)\n",
    "sns.heatmap(gradient_cm, annot = True)\n",
    "plt.show()"
   ]
  },
  {
   "cell_type": "markdown",
   "id": "ca1c18ce",
   "metadata": {},
   "source": [
    "Nhận xét: \n",
    "- nhìn thì có vẻ đã improve hơn Decision Tree, nhưng nếu để ý thì mispredict là 34 + 25 $\\approx$ 40 + 20 (decision tree). \n",
    "- Thuật chạy lâu hơn Decision Tree.\n",
    "\n",
    "Vì vậy nếu ưu tiên thì mình sẽ chọn Decision Tree nhiều hơn."
   ]
  },
  {
   "cell_type": "code",
   "execution_count": 25,
   "id": "9e3b33f6",
   "metadata": {},
   "outputs": [],
   "source": [
    "# Export ra file pickle"
   ]
  },
  {
   "cell_type": "markdown",
   "id": "a3cc3396",
   "metadata": {},
   "source": [
    "#### Random Forest Classification"
   ]
  },
  {
   "cell_type": "code",
   "execution_count": 26,
   "id": "f982c76c",
   "metadata": {},
   "outputs": [
    {
     "data": {
      "text/plain": [
       "RandomForestClassifier(random_state=42)"
      ]
     },
     "execution_count": 26,
     "metadata": {},
     "output_type": "execute_result"
    }
   ],
   "source": [
    "forest_model = RandomForestClassifier(random_state = 42)\n",
    "forest_model.fit(XVector_train, y_train)"
   ]
  },
  {
   "cell_type": "code",
   "execution_count": 27,
   "id": "b1d31e95",
   "metadata": {},
   "outputs": [
    {
     "data": {
      "text/plain": [
       "0.98767082590612"
      ]
     },
     "execution_count": 27,
     "metadata": {},
     "output_type": "execute_result"
    }
   ],
   "source": [
    "forest_model.score(XVector_test, y_test)"
   ]
  },
  {
   "cell_type": "code",
   "execution_count": 28,
   "id": "60ebe89c",
   "metadata": {},
   "outputs": [
    {
     "name": "stdout",
     "output_type": "stream",
     "text": [
      "              precision    recall  f1-score   support\n",
      "\n",
      "           0       0.99      0.99      0.99      6967\n",
      "           1       0.99      0.98      0.99      6497\n",
      "\n",
      "    accuracy                           0.99     13464\n",
      "   macro avg       0.99      0.99      0.99     13464\n",
      "weighted avg       0.99      0.99      0.99     13464\n",
      "\n"
     ]
    }
   ],
   "source": [
    "predict_random_forest = forest_model.predict(XVector_test)\n",
    "print(classification_report(y_test, predict_random_forest))"
   ]
  },
  {
   "cell_type": "code",
   "execution_count": 29,
   "id": "73bd4662",
   "metadata": {
    "scrolled": true
   },
   "outputs": [
    {
     "data": {
      "image/png": "[encoded data removed]",
      "text/plain": [
       "<Figure size 432x288 with 2 Axes>"
      ]
     },
     "metadata": {
      "needs_background": "light"
     },
     "output_type": "display_data"
    }
   ],
   "source": [
    "forest_cm = confusion_matrix(y_test, predict_random_forest)\n",
    "sns.heatmap(forest_cm, annot = True)\n",
    "plt.show()"
   ]
  },
  {
   "cell_type": "markdown",
   "id": "4ae6ea67",
   "metadata": {},
   "source": [
    "Nhận xét:\n",
    "- Nhanh hơn Gradient Boosting.\n",
    "- Accuracy kém hơn Gradient Boosting."
   ]
  },
  {
   "cell_type": "code",
   "execution_count": 30,
   "id": "87673293",
   "metadata": {},
   "outputs": [],
   "source": [
    "# Export ra file pickle"
   ]
  },
  {
   "cell_type": "markdown",
   "id": "f83f5a6c",
   "metadata": {},
   "source": [
    "### sklearn.neighbors\n",
    "\n",
    "#### k-Nearest Neighbors\n",
    "\n",
    "Chú ý là đừng có lộn n_neighbors với số class, nó chẳng liên quan gì hết."
   ]
  },
  {
   "cell_type": "code",
   "execution_count": 31,
   "id": "7323b883",
   "metadata": {},
   "outputs": [
    {
     "data": {
      "text/plain": [
       "KNeighborsClassifier(n_neighbors=1, weights='distance')"
      ]
     },
     "execution_count": 31,
     "metadata": {},
     "output_type": "execute_result"
    }
   ],
   "source": [
    "neighbors_model = KNeighborsClassifier(n_neighbors = 1, weights = 'distance')\n",
    "neighbors_model.fit(XVector_train, y_train)"
   ]
  },
  {
   "cell_type": "code",
   "execution_count": 32,
   "id": "6c9072dd",
   "metadata": {},
   "outputs": [
    {
     "data": {
      "text/plain": [
       "0.7808229352346999"
      ]
     },
     "execution_count": 32,
     "metadata": {},
     "output_type": "execute_result"
    }
   ],
   "source": [
    "neighbors_model.score(XVector_test, y_test)"
   ]
  },
  {
   "cell_type": "code",
   "execution_count": 33,
   "id": "65568406",
   "metadata": {},
   "outputs": [
    {
     "name": "stdout",
     "output_type": "stream",
     "text": [
      "              precision    recall  f1-score   support\n",
      "\n",
      "           0       0.72      0.95      0.82      6967\n",
      "           1       0.92      0.60      0.72      6497\n",
      "\n",
      "    accuracy                           0.78     13464\n",
      "   macro avg       0.82      0.77      0.77     13464\n",
      "weighted avg       0.82      0.78      0.77     13464\n",
      "\n"
     ]
    }
   ],
   "source": [
    "predicted_neighbors = neighbors_model.predict(XVector_test)\n",
    "print(classification_report(y_test, predicted_neighbors))"
   ]
  },
  {
   "cell_type": "code",
   "execution_count": 34,
   "id": "b8d7eed5",
   "metadata": {},
   "outputs": [
    {
     "data": {
      "image/png": "[encoded data removed]",
      "text/plain": [
       "<Figure size 432x288 with 2 Axes>"
      ]
     },
     "metadata": {
      "needs_background": "light"
     },
     "output_type": "display_data"
    }
   ],
   "source": [
    "neighbors_cm = confusion_matrix(y_test, predicted_neighbors)\n",
    "sns.heatmap(neighbors_cm, annot = True)\n",
    "plt.show()"
   ]
  },
  {
   "cell_type": "markdown",
   "id": "45a52a0e",
   "metadata": {},
   "source": [
    "Nhận xét:\n",
    "- Accuracy thấp hơn Gradient Boosting\n",
    "- Chậm hơn Gradient Boosting\n",
    "\n",
    "Nên recommend không xài cái này."
   ]
  },
  {
   "cell_type": "code",
   "execution_count": 35,
   "id": "abc575fa",
   "metadata": {},
   "outputs": [],
   "source": [
    "# Export ra file pickle"
   ]
  },
  {
   "cell_type": "markdown",
   "id": "d3f16814",
   "metadata": {},
   "source": [
    "### sklearn.naive_bayes\n",
    "\n",
    "#### Multinomial Naive Bayes\n",
    "\n",
    "Là Naive Bayes, nhưng dùng [multinomial distribution](https://en.wikipedia.org/wiki/Multinomial_distribution)"
   ]
  },
  {
   "cell_type": "code",
   "execution_count": 36,
   "id": "acc9284b",
   "metadata": {},
   "outputs": [
    {
     "data": {
      "text/plain": [
       "MultinomialNB()"
      ]
     },
     "execution_count": 36,
     "metadata": {},
     "output_type": "execute_result"
    }
   ],
   "source": [
    "multinomial_bayes_model = MultinomialNB()\n",
    "multinomial_bayes_model.fit(XVector_train, y_train)"
   ]
  },
  {
   "cell_type": "code",
   "execution_count": 37,
   "id": "875cd391",
   "metadata": {},
   "outputs": [
    {
     "data": {
      "text/plain": [
       "0.9347890671420083"
      ]
     },
     "execution_count": 37,
     "metadata": {},
     "output_type": "execute_result"
    }
   ],
   "source": [
    "multinomial_bayes_model.score(XVector_test, y_test)"
   ]
  },
  {
   "cell_type": "code",
   "execution_count": 38,
   "id": "8d6929df",
   "metadata": {},
   "outputs": [
    {
     "name": "stdout",
     "output_type": "stream",
     "text": [
      "              precision    recall  f1-score   support\n",
      "\n",
      "           0       0.93      0.95      0.94      6967\n",
      "           1       0.95      0.92      0.93      6497\n",
      "\n",
      "    accuracy                           0.93     13464\n",
      "   macro avg       0.94      0.93      0.93     13464\n",
      "weighted avg       0.94      0.93      0.93     13464\n",
      "\n"
     ]
    }
   ],
   "source": [
    "predicted_multinomial = multinomial_bayes_model.predict(XVector_test)\n",
    "print(classification_report(y_test, predicted_multinomial))"
   ]
  },
  {
   "cell_type": "code",
   "execution_count": 39,
   "id": "d919fdcf",
   "metadata": {},
   "outputs": [
    {
     "data": {
      "image/png": "[encoded data removed]",
      "text/plain": [
       "<Figure size 432x288 with 2 Axes>"
      ]
     },
     "metadata": {
      "needs_background": "light"
     },
     "output_type": "display_data"
    }
   ],
   "source": [
    "multinomial_cm = confusion_matrix(y_test, predicted_multinomial)\n",
    "sns.heatmap(multinomial_cm, annot = True)\n",
    "plt.show()"
   ]
  },
  {
   "cell_type": "markdown",
   "id": "f70e8d4f",
   "metadata": {},
   "source": [
    "Nhận xét: accuracy chưa cao như một số model bên trên, nhưng cũng nhanh hơn mấy thuật bên ensemble."
   ]
  },
  {
   "cell_type": "code",
   "execution_count": 40,
   "id": "1992d7f9",
   "metadata": {},
   "outputs": [],
   "source": [
    "# Export ra file pickle"
   ]
  }
 ],
 "metadata": {
  "kernelspec": {
   "display_name": "Python 3 (ipykernel)",
   "language": "python",
   "name": "python3"
  },
  "language_info": {
   "codemirror_mode": {
    "name": "ipython",
    "version": 3
   },
   "file_extension": ".py",
   "mimetype": "text/x-python",
   "name": "python",
   "nbconvert_exporter": "python",
   "pygments_lexer": "ipython3",
   "version": "3.9.7"
  }
 },
 "nbformat": 4,
 "nbformat_minor": 5
}
