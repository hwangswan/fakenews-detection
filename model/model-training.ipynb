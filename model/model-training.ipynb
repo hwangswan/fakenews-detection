{
 "cells": [
  {
   "cell_type": "markdown",
   "id": "3c229285",
   "metadata": {},
   "source": [
    "# Model Training for Fakenews Detection\n",
    "\n",
    "(Mặc định đã chạy notebook data-cleaning.ipynb để clean data và tạo dataset)."
   ]
  },
  {
   "cell_type": "code",
   "execution_count": 1,
   "id": "071fc29c",
   "metadata": {},
   "outputs": [],
   "source": [
    "import pandas as pd\n",
    "import seaborn as sns\n",
    "import matplotlib.pyplot as plt\n",
    "from sklearn.metrics import classification_report, confusion_matrix\n",
    "import re, string, os\n",
    "\n",
    "import pickle as pkl"
   ]
  },
  {
   "cell_type": "code",
   "execution_count": 2,
   "id": "eb70f986",
   "metadata": {},
   "outputs": [],
   "source": [
    "from sklearn.feature_extraction.text import TfidfVectorizer\n",
    "\n",
    "# Cho Linear Regression và SGDClassifier\n",
    "from sklearn.linear_model import LogisticRegression, SGDClassifier\n",
    "\n",
    "# Cho Decision Tree\n",
    "from sklearn.tree import DecisionTreeClassifier\n",
    "\n",
    "# Cho Random Forest và Gradient Boosting\n",
    "from sklearn.ensemble import GradientBoostingClassifier, RandomForestClassifier\n",
    "\n",
    "# Cho thuật KNN\n",
    "from sklearn.neighbors import KNeighborsClassifier\n",
    "\n",
    "# Cho Naive Bayes\n",
    "from sklearn.naive_bayes import MultinomialNB\n",
    "\n",
    "# Cho Support Vector Machine\n",
    "from sklearn.svm import LinearSVC"
   ]
  },
  {
   "cell_type": "markdown",
   "id": "62568a6a",
   "metadata": {},
   "source": [
    "Load dataset đã tạo với notebook clean data."
   ]
  },
  {
   "cell_type": "code",
   "execution_count": 3,
   "id": "30cac7b9",
   "metadata": {},
   "outputs": [],
   "source": [
    "df_train = pd.read_csv('dataset/train.csv')\n",
    "df_test = pd.read_csv('dataset/test.csv')"
   ]
  },
  {
   "cell_type": "markdown",
   "id": "90bc97a8",
   "metadata": {},
   "source": [
    "Tương quan giữa các class 0 (fake news) và 1 (true news) trên tập train"
   ]
  },
  {
   "cell_type": "code",
   "execution_count": 4,
   "id": "c8801789",
   "metadata": {},
   "outputs": [
    {
     "data": {
      "image/png": "[encoded data removed]",
      "text/plain": [
       "<Figure size 432x288 with 1 Axes>"
      ]
     },
     "metadata": {
      "needs_background": "light"
     },
     "output_type": "display_data"
    }
   ],
   "source": [
    "plt.figure()\n",
    "plt.hist(df_train['class'])\n",
    "plt.xticks(df_train['class'].unique())\n",
    "plt.show()"
   ]
  },
  {
   "cell_type": "markdown",
   "id": "97403dda",
   "metadata": {},
   "source": [
    "Số lượng item của mỗi tập xấp xỉ nhau nên không sợ unbalanced. Nếu unbalanced thì có 2 lựa chọn:\n",
    "- Undersampling: \"Chặt\" bớt data của tập nhiều hơn cho 2 (các) tập xấp xỉ (hoặc bằng) nhau. Ca này khó đỡ nếu 2 (các) tập lệch quá nhiều.\n",
    "- Oversampling: generate thêm data cho (các) tập ít hơn. Ca này dễ sinh ra nhiều câu vl, khó kiểm soát.\n",
    "\n",
    "Tóm lại: chả cần oversampling hay undersampling làm gì cả, train thôi!"
   ]
  },
  {
   "cell_type": "markdown",
   "id": "981a81cf",
   "metadata": {},
   "source": [
    "## Tiền xử lý text\n",
    "Gồm các bước sau:\n",
    "- Chuyển text về dạng lowercase.\n",
    "- Loại bỏ các dấu ngoặc.\n",
    "- Loại bỏ các ký tự đặc biệt (chỉ cho phép a-z, A-Z, 0-9), thay thế bằng dấu cách.\n",
    "- Loại bỏ html tags.\n",
    "- Loại bỏ dấu câu (string punctuations).\n",
    "- Loại bỏ dấu xuống dòng.\n",
    "- Loại bỏ số trong câu."
   ]
  },
  {
   "cell_type": "code",
   "execution_count": 5,
   "id": "7e18e211",
   "metadata": {},
   "outputs": [],
   "source": [
    "def preprocess(text):\n",
    "    punctuations = '[{0}]'.format(string.punctuation)\n",
    "    \n",
    "    text = text.lower()\n",
    "    text = re.sub('\\[.*?\\]', '', text)\n",
    "    text = re.sub('\\\\W', ' ', text)\n",
    "    text = re.sub('https?://\\S+|www\\.\\S+', '', text)\n",
    "    text = re.sub('<.*?>+', '', text)\n",
    "    text = re.sub(punctuations, '', text)\n",
    "    text = re.sub('\\n', '', text)\n",
    "    text = re.sub('\\w*\\d\\w*', '', text)\n",
    "    \n",
    "    return text"
   ]
  },
  {
   "cell_type": "markdown",
   "id": "ee994e25",
   "metadata": {},
   "source": [
    "Áp dụng text preprocessing với df_train"
   ]
  },
  {
   "cell_type": "code",
   "execution_count": 6,
   "id": "87e8390f",
   "metadata": {},
   "outputs": [
    {
     "data": {
      "text/plain": [
       "0        shawn helton  century wireon the eve of the  a...\n",
       "1        washington  reuters    democratic presidential...\n",
       "2         join patrick every wednesday at independent t...\n",
       "3        coming to a town near you a sign was hung in a...\n",
       "4        new york  reuters    while donald trump s poli...\n",
       "                               ...                        \n",
       "44793    abuja  reuters    the united states has formal...\n",
       "44794    tune in to the alternate current radio network...\n",
       "44795    ed henry of fox news tells us tonight that hil...\n",
       "44796    washington  reuters    the republican tax plan...\n",
       "44797    sydney  reuters    the u n  high commissioner ...\n",
       "Name: text, Length: 44798, dtype: object"
      ]
     },
     "execution_count": 6,
     "metadata": {},
     "output_type": "execute_result"
    }
   ],
   "source": [
    "df_train['text'].apply(preprocess)"
   ]
  },
  {
   "cell_type": "markdown",
   "id": "649a0400",
   "metadata": {},
   "source": [
    "Cũng áp dụng tương tự với df_test"
   ]
  },
  {
   "cell_type": "code",
   "execution_count": 7,
   "id": "9ab7a720",
   "metadata": {},
   "outputs": [
    {
     "data": {
      "text/plain": [
       "0     episode   of sunday wire show finally resumes ...\n",
       "1      century wire says this is a new geopolitical ...\n",
       "2      century wire says unless you have been living...\n",
       "3     brussels  reuters    nato allies on tuesday we...\n",
       "4     united nations  reuters    two north korean sh...\n",
       "                            ...                        \n",
       "95     inversewikileaks released tonight a new cache...\n",
       "96     century wire says iowa s democratic party pri...\n",
       "97    ottawa  reuters    canada fears a huge surge i...\n",
       "98    vic bishop waking timesour reality is carefull...\n",
       "99     truthstream mediaout of  potential horrors th...\n",
       "Name: text, Length: 100, dtype: object"
      ]
     },
     "execution_count": 7,
     "metadata": {},
     "output_type": "execute_result"
    }
   ],
   "source": [
    "df_test['text'].apply(preprocess)"
   ]
  },
  {
   "cell_type": "markdown",
   "id": "f102f86f",
   "metadata": {},
   "source": [
    "## Train model\n",
    "\n",
    "Tạo folder lưu model sau khi train"
   ]
  },
  {
   "cell_type": "code",
   "execution_count": 8,
   "id": "f7bab21a",
   "metadata": {},
   "outputs": [],
   "source": [
    "model_dir = 'model/'\n",
    "if not os.path.exists(model_dir):\n",
    "    os.makedirs(model_dir)"
   ]
  },
  {
   "cell_type": "markdown",
   "id": "f55089a6",
   "metadata": {},
   "source": [
    "Load tập train và test"
   ]
  },
  {
   "cell_type": "code",
   "execution_count": 9,
   "id": "4d86ece8",
   "metadata": {},
   "outputs": [],
   "source": [
    "X_train = df_train['text']\n",
    "y_train = df_train['class']"
   ]
  },
  {
   "cell_type": "code",
   "execution_count": 10,
   "id": "8dac15aa",
   "metadata": {},
   "outputs": [],
   "source": [
    "X_test = df_test['text']\n",
    "y_test = df_test['class']"
   ]
  },
  {
   "cell_type": "markdown",
   "id": "3f1eaa84",
   "metadata": {},
   "source": [
    "X cần được chuyển thành vector trước khi đưa vào các model. Ở đây ta dùng TF-IDF vectorizer."
   ]
  },
  {
   "cell_type": "code",
   "execution_count": 11,
   "id": "93b3f5c1",
   "metadata": {},
   "outputs": [],
   "source": [
    "vectorizer = TfidfVectorizer()\n",
    "XVector_train = vectorizer.fit_transform(X_train)\n",
    "\n",
    "# Test không có fit!\n",
    "XVector_test = vectorizer.transform(X_test)"
   ]
  },
  {
   "cell_type": "markdown",
   "id": "2bac62ad",
   "metadata": {},
   "source": [
    "vectorizer này bao gồm bộ từ vựng (vocabulary) và điểm TF-IDF của từng từ trong văn bản train ban đầu.\n",
    "\n",
    "Cho dễ hiểu là ta không cần bắt model \"học thuộc\" toàn bộ câu, mà chỉ ra câu đó có những đặc điểm gì đặc biệt để nhận biết nó thuộc class nào. Các \"đặc điểm\" này là những keyword và điểm TF-IDF của keyword đó. (đọc thêm tài liệu về [TF-IDF](https://en.wikipedia.org/wiki/Tf%E2%80%93idf))\n",
    "\n",
    "Đối với vector train, ta \"fit\" - thực hiện trích xuất câu thành keywords và \"học\" các keyword đó.\n",
    "\n",
    "Đối với vector test, ta chỉ transform - biến các câu test thành danh sách các keyword đã \"học\" lúc fit."
   ]
  },
  {
   "cell_type": "code",
   "execution_count": 12,
   "id": "a7ad82df",
   "metadata": {},
   "outputs": [],
   "source": [
    "# Export vectorizer ra file pickle\n",
    "with open(model_dir + 'vectorizer.pkl', 'wb') as f:\n",
    "    pkl.dump(vectorizer, f)"
   ]
  },
  {
   "cell_type": "markdown",
   "id": "cd40eeeb",
   "metadata": {},
   "source": [
    "### sklearn.linear_model\n",
    "\n",
    "#### Logistic Regression"
   ]
  },
  {
   "cell_type": "code",
   "execution_count": 13,
   "id": "68fc22ea",
   "metadata": {},
   "outputs": [
    {
     "data": {
      "text/plain": [
       "LogisticRegression()"
      ]
     },
     "execution_count": 13,
     "metadata": {},
     "output_type": "execute_result"
    }
   ],
   "source": [
    "logistic_model = LogisticRegression()\n",
    "logistic_model.fit(XVector_train, y_train)"
   ]
  },
  {
   "cell_type": "code",
   "execution_count": 14,
   "id": "cd9a4b1d",
   "metadata": {},
   "outputs": [
    {
     "data": {
      "text/plain": [
       "0.99"
      ]
     },
     "execution_count": 14,
     "metadata": {},
     "output_type": "execute_result"
    }
   ],
   "source": [
    "logistic_model.score(XVector_test, y_test)"
   ]
  },
  {
   "cell_type": "code",
   "execution_count": 15,
   "id": "00d998b1",
   "metadata": {},
   "outputs": [
    {
     "name": "stdout",
     "output_type": "stream",
     "text": [
      "              precision    recall  f1-score   support\n",
      "\n",
      "           0       0.98      1.00      0.99        50\n",
      "           1       1.00      0.98      0.99        50\n",
      "\n",
      "    accuracy                           0.99       100\n",
      "   macro avg       0.99      0.99      0.99       100\n",
      "weighted avg       0.99      0.99      0.99       100\n",
      "\n"
     ]
    }
   ],
   "source": [
    "predict_logistic_regression = logistic_model.predict(XVector_test)\n",
    "print(classification_report(y_test, predict_logistic_regression))"
   ]
  },
  {
   "cell_type": "code",
   "execution_count": 16,
   "id": "c3a13dc9",
   "metadata": {},
   "outputs": [
    {
     "data": {
      "image/png": "[encoded data removed]",
      "text/plain": [
       "<Figure size 432x288 with 2 Axes>"
      ]
     },
     "metadata": {
      "needs_background": "light"
     },
     "output_type": "display_data"
    }
   ],
   "source": [
    "logistic_cm = confusion_matrix(y_test, predict_logistic_regression)\n",
    "sns.heatmap(logistic_cm, annot = True)\n",
    "plt.show()"
   ]
  },
  {
   "cell_type": "code",
   "execution_count": 17,
   "id": "bc80a9a8",
   "metadata": {},
   "outputs": [],
   "source": [
    "# Export model ra file pickle\n",
    "with open(model_dir + 'logistic_regression.pkl', 'wb') as f:\n",
    "    pkl.dump(logistic_model, f)"
   ]
  },
  {
   "cell_type": "markdown",
   "id": "1641381a",
   "metadata": {},
   "source": [
    "#### SGD Classifier\n",
    "Là thằng [Support Vector Classifier](#LinearSVC---Linear-Support-Vector-Classifier), nhưng giờ sẽ dùng SGD learning. Đọc kỹ hơn trên site của sklearn!"
   ]
  },
  {
   "cell_type": "code",
   "execution_count": 18,
   "id": "1a586577",
   "metadata": {},
   "outputs": [
    {
     "data": {
      "text/plain": [
       "SGDClassifier(random_state=42)"
      ]
     },
     "execution_count": 18,
     "metadata": {},
     "output_type": "execute_result"
    }
   ],
   "source": [
    "sgd_model = SGDClassifier(random_state = 42)\n",
    "sgd_model.fit(XVector_train, y_train)"
   ]
  },
  {
   "cell_type": "code",
   "execution_count": 19,
   "id": "e5c0487a",
   "metadata": {},
   "outputs": [
    {
     "data": {
      "text/plain": [
       "0.99"
      ]
     },
     "execution_count": 19,
     "metadata": {},
     "output_type": "execute_result"
    }
   ],
   "source": [
    "sgd_model.score(XVector_test, y_test)"
   ]
  },
  {
   "cell_type": "code",
   "execution_count": 20,
   "id": "7d20b866",
   "metadata": {},
   "outputs": [
    {
     "name": "stdout",
     "output_type": "stream",
     "text": [
      "              precision    recall  f1-score   support\n",
      "\n",
      "           0       0.98      1.00      0.99        50\n",
      "           1       1.00      0.98      0.99        50\n",
      "\n",
      "    accuracy                           0.99       100\n",
      "   macro avg       0.99      0.99      0.99       100\n",
      "weighted avg       0.99      0.99      0.99       100\n",
      "\n"
     ]
    }
   ],
   "source": [
    "predict_sgd = sgd_model.predict(XVector_test)\n",
    "print(classification_report(y_test, predict_sgd))"
   ]
  },
  {
   "cell_type": "code",
   "execution_count": 21,
   "id": "38a6e63b",
   "metadata": {},
   "outputs": [
    {
     "data": {
      "image/png": "[encoded data removed]",
      "text/plain": [
       "<Figure size 432x288 with 2 Axes>"
      ]
     },
     "metadata": {
      "needs_background": "light"
     },
     "output_type": "display_data"
    }
   ],
   "source": [
    "sgd_cm = confusion_matrix(y_test, predict_sgd)\n",
    "sns.heatmap(sgd_cm, annot = True)\n",
    "plt.show()"
   ]
  },
  {
   "cell_type": "markdown",
   "id": "7385f48b",
   "metadata": {},
   "source": [
    "Nhận xét:\n",
    "- Sai y chang Linear Regression\n",
    "- Chạy nhanh"
   ]
  },
  {
   "cell_type": "code",
   "execution_count": 22,
   "id": "f9aee537",
   "metadata": {},
   "outputs": [],
   "source": [
    "# Export ra file pickle\n",
    "with open(model_dir + 'sgd_classifier.pkl', 'wb') as f:\n",
    "    pkl.dump(sgd_model, f)"
   ]
  },
  {
   "cell_type": "markdown",
   "id": "c218d3eb",
   "metadata": {},
   "source": [
    "### sklearn.tree\n",
    "\n",
    "#### Decision Tree Classification"
   ]
  },
  {
   "cell_type": "code",
   "execution_count": 23,
   "id": "6a208d69",
   "metadata": {},
   "outputs": [
    {
     "data": {
      "text/plain": [
       "DecisionTreeClassifier(random_state=42)"
      ]
     },
     "execution_count": 23,
     "metadata": {},
     "output_type": "execute_result"
    }
   ],
   "source": [
    "decision_model = DecisionTreeClassifier(random_state = 42)\n",
    "decision_model.fit(XVector_train, y_train)"
   ]
  },
  {
   "cell_type": "code",
   "execution_count": 24,
   "id": "018533dc",
   "metadata": {},
   "outputs": [
    {
     "data": {
      "text/plain": [
       "1.0"
      ]
     },
     "execution_count": 24,
     "metadata": {},
     "output_type": "execute_result"
    }
   ],
   "source": [
    "decision_model.score(XVector_test, y_test)"
   ]
  },
  {
   "cell_type": "code",
   "execution_count": 25,
   "id": "b6e67fd5",
   "metadata": {},
   "outputs": [
    {
     "name": "stdout",
     "output_type": "stream",
     "text": [
      "              precision    recall  f1-score   support\n",
      "\n",
      "           0       1.00      1.00      1.00        50\n",
      "           1       1.00      1.00      1.00        50\n",
      "\n",
      "    accuracy                           1.00       100\n",
      "   macro avg       1.00      1.00      1.00       100\n",
      "weighted avg       1.00      1.00      1.00       100\n",
      "\n"
     ]
    }
   ],
   "source": [
    "predict_decision_tree = decision_model.predict(XVector_test)\n",
    "print(classification_report(y_test, predict_decision_tree))"
   ]
  },
  {
   "cell_type": "code",
   "execution_count": 26,
   "id": "b6152cd6",
   "metadata": {
    "scrolled": true
   },
   "outputs": [
    {
     "data": {
      "image/png": "[encoded data removed]",
      "text/plain": [
       "<Figure size 432x288 with 2 Axes>"
      ]
     },
     "metadata": {
      "needs_background": "light"
     },
     "output_type": "display_data"
    }
   ],
   "source": [
    "decision_cm = confusion_matrix(y_test, predict_decision_tree)\n",
    "sns.heatmap(decision_cm, annot = True)\n",
    "plt.show()"
   ]
  },
  {
   "cell_type": "markdown",
   "id": "6c8f886a",
   "metadata": {},
   "source": [
    "Nhận xét: Accuracy tăng, model này tốt hơn Logistic Regression."
   ]
  },
  {
   "cell_type": "code",
   "execution_count": 27,
   "id": "4ce9346c",
   "metadata": {},
   "outputs": [],
   "source": [
    "# Export ra file pickle\n",
    "with open(model_dir + 'decision_tree.pkl', 'wb') as f:\n",
    "    pkl.dump(decision_model, f)"
   ]
  },
  {
   "cell_type": "markdown",
   "id": "0a9457ae",
   "metadata": {},
   "source": [
    "### sklearn.ensemble\n",
    "\n",
    "#### Gradient Boosting Classification"
   ]
  },
  {
   "cell_type": "code",
   "execution_count": 28,
   "id": "e5b40b31",
   "metadata": {},
   "outputs": [
    {
     "data": {
      "text/plain": [
       "GradientBoostingClassifier(random_state=42)"
      ]
     },
     "execution_count": 28,
     "metadata": {},
     "output_type": "execute_result"
    }
   ],
   "source": [
    "gradient_model = GradientBoostingClassifier(random_state = 42)\n",
    "gradient_model.fit(XVector_train, y_train)"
   ]
  },
  {
   "cell_type": "code",
   "execution_count": 29,
   "id": "f425a0f5",
   "metadata": {},
   "outputs": [
    {
     "data": {
      "text/plain": [
       "1.0"
      ]
     },
     "execution_count": 29,
     "metadata": {},
     "output_type": "execute_result"
    }
   ],
   "source": [
    "gradient_model.score(XVector_test, y_test)"
   ]
  },
  {
   "cell_type": "code",
   "execution_count": 30,
   "id": "b75a25c4",
   "metadata": {},
   "outputs": [
    {
     "name": "stdout",
     "output_type": "stream",
     "text": [
      "              precision    recall  f1-score   support\n",
      "\n",
      "           0       1.00      1.00      1.00        50\n",
      "           1       1.00      1.00      1.00        50\n",
      "\n",
      "    accuracy                           1.00       100\n",
      "   macro avg       1.00      1.00      1.00       100\n",
      "weighted avg       1.00      1.00      1.00       100\n",
      "\n"
     ]
    }
   ],
   "source": [
    "predict_gradient_boosting = gradient_model.predict(XVector_test)\n",
    "print(classification_report(y_test, predict_gradient_boosting))"
   ]
  },
  {
   "cell_type": "code",
   "execution_count": 31,
   "id": "a3b2adb3",
   "metadata": {
    "scrolled": true
   },
   "outputs": [
    {
     "data": {
      "image/png": "[encoded data removed]",
      "text/plain": [
       "<Figure size 432x288 with 2 Axes>"
      ]
     },
     "metadata": {
      "needs_background": "light"
     },
     "output_type": "display_data"
    }
   ],
   "source": [
    "gradient_cm = confusion_matrix(y_test, predict_gradient_boosting)\n",
    "sns.heatmap(gradient_cm, annot = True)\n",
    "plt.show()"
   ]
  },
  {
   "cell_type": "markdown",
   "id": "ca1c18ce",
   "metadata": {},
   "source": [
    "Nhận xét: \n",
    "- nhìn thì có vẻ đã improve hơn Decision Tree nhưng thuật chạy lâu hơn Decision Tree.\n",
    "\n",
    "Vì vậy nếu ưu tiên thì mình sẽ chọn Decision Tree nhiều hơn."
   ]
  },
  {
   "cell_type": "code",
   "execution_count": 32,
   "id": "9e3b33f6",
   "metadata": {},
   "outputs": [],
   "source": [
    "# Export ra file pickle\n",
    "with open(model_dir + 'gradient_boosting.pkl', 'wb') as f:\n",
    "    pkl.dump(gradient_model, f)"
   ]
  },
  {
   "cell_type": "markdown",
   "id": "a3cc3396",
   "metadata": {},
   "source": [
    "#### Random Forest Classification"
   ]
  },
  {
   "cell_type": "code",
   "execution_count": 33,
   "id": "f982c76c",
   "metadata": {},
   "outputs": [
    {
     "data": {
      "text/plain": [
       "RandomForestClassifier(random_state=42)"
      ]
     },
     "execution_count": 33,
     "metadata": {},
     "output_type": "execute_result"
    }
   ],
   "source": [
    "forest_model = RandomForestClassifier(random_state = 42)\n",
    "forest_model.fit(XVector_train, y_train)"
   ]
  },
  {
   "cell_type": "code",
   "execution_count": 34,
   "id": "b1d31e95",
   "metadata": {},
   "outputs": [
    {
     "data": {
      "text/plain": [
       "0.99"
      ]
     },
     "execution_count": 34,
     "metadata": {},
     "output_type": "execute_result"
    }
   ],
   "source": [
    "forest_model.score(XVector_test, y_test)"
   ]
  },
  {
   "cell_type": "code",
   "execution_count": 35,
   "id": "60ebe89c",
   "metadata": {},
   "outputs": [
    {
     "name": "stdout",
     "output_type": "stream",
     "text": [
      "              precision    recall  f1-score   support\n",
      "\n",
      "           0       0.98      1.00      0.99        50\n",
      "           1       1.00      0.98      0.99        50\n",
      "\n",
      "    accuracy                           0.99       100\n",
      "   macro avg       0.99      0.99      0.99       100\n",
      "weighted avg       0.99      0.99      0.99       100\n",
      "\n"
     ]
    }
   ],
   "source": [
    "predict_random_forest = forest_model.predict(XVector_test)\n",
    "print(classification_report(y_test, predict_random_forest))"
   ]
  },
  {
   "cell_type": "code",
   "execution_count": 36,
   "id": "73bd4662",
   "metadata": {
    "scrolled": true
   },
   "outputs": [
    {
     "data": {
      "image/png": "[encoded data removed]",
      "text/plain": [
       "<Figure size 432x288 with 2 Axes>"
      ]
     },
     "metadata": {
      "needs_background": "light"
     },
     "output_type": "display_data"
    }
   ],
   "source": [
    "forest_cm = confusion_matrix(y_test, predict_random_forest)\n",
    "sns.heatmap(forest_cm, annot = True)\n",
    "plt.show()"
   ]
  },
  {
   "cell_type": "markdown",
   "id": "4ae6ea67",
   "metadata": {},
   "source": [
    "Nhận xét:\n",
    "- Nhanh hơn Gradient Boosting.\n",
    "- Accuracy kém hơn Gradient Boosting."
   ]
  },
  {
   "cell_type": "code",
   "execution_count": 37,
   "id": "87673293",
   "metadata": {},
   "outputs": [],
   "source": [
    "# Export ra file pickle\n",
    "with open(model_dir + 'random_forest.pkl', 'wb') as f:\n",
    "    pkl.dump(forest_model, f)"
   ]
  },
  {
   "cell_type": "markdown",
   "id": "f83f5a6c",
   "metadata": {},
   "source": [
    "### sklearn.neighbors\n",
    "\n",
    "#### k-Nearest Neighbors\n",
    "\n",
    "Chú ý là đừng có lộn n_neighbors với số class, nó chẳng liên quan gì hết."
   ]
  },
  {
   "cell_type": "code",
   "execution_count": 38,
   "id": "7323b883",
   "metadata": {},
   "outputs": [
    {
     "data": {
      "text/plain": [
       "KNeighborsClassifier(n_neighbors=1, weights='distance')"
      ]
     },
     "execution_count": 38,
     "metadata": {},
     "output_type": "execute_result"
    }
   ],
   "source": [
    "neighbors_model = KNeighborsClassifier(n_neighbors = 1, weights = 'distance')\n",
    "neighbors_model.fit(XVector_train, y_train)"
   ]
  },
  {
   "cell_type": "code",
   "execution_count": 39,
   "id": "6c9072dd",
   "metadata": {},
   "outputs": [
    {
     "data": {
      "text/plain": [
       "0.82"
      ]
     },
     "execution_count": 39,
     "metadata": {},
     "output_type": "execute_result"
    }
   ],
   "source": [
    "neighbors_model.score(XVector_test, y_test)"
   ]
  },
  {
   "cell_type": "code",
   "execution_count": 40,
   "id": "65568406",
   "metadata": {},
   "outputs": [
    {
     "name": "stdout",
     "output_type": "stream",
     "text": [
      "              precision    recall  f1-score   support\n",
      "\n",
      "           0       0.74      1.00      0.85        50\n",
      "           1       1.00      0.64      0.78        50\n",
      "\n",
      "    accuracy                           0.82       100\n",
      "   macro avg       0.87      0.82      0.81       100\n",
      "weighted avg       0.87      0.82      0.81       100\n",
      "\n"
     ]
    }
   ],
   "source": [
    "predicted_neighbors = neighbors_model.predict(XVector_test)\n",
    "print(classification_report(y_test, predicted_neighbors))"
   ]
  },
  {
   "cell_type": "code",
   "execution_count": 41,
   "id": "b8d7eed5",
   "metadata": {},
   "outputs": [
    {
     "data": {
      "image/png": "[encoded data removed]",
      "text/plain": [
       "<Figure size 432x288 with 2 Axes>"
      ]
     },
     "metadata": {
      "needs_background": "light"
     },
     "output_type": "display_data"
    }
   ],
   "source": [
    "neighbors_cm = confusion_matrix(y_test, predicted_neighbors)\n",
    "sns.heatmap(neighbors_cm, annot = True)\n",
    "plt.show()"
   ]
  },
  {
   "cell_type": "markdown",
   "id": "45a52a0e",
   "metadata": {},
   "source": [
    "Nhận xét:\n",
    "- Accuracy thấp hơn Gradient Boosting\n",
    "- Chậm hơn Gradient Boosting\n",
    "\n",
    "Nên recommend không xài cái này."
   ]
  },
  {
   "cell_type": "code",
   "execution_count": 42,
   "id": "abc575fa",
   "metadata": {},
   "outputs": [],
   "source": [
    "# Export ra file pickle\n",
    "with open(model_dir + 'k_neighbors.pkl', 'wb') as f:\n",
    "    pkl.dump(neighbors_model, f)"
   ]
  },
  {
   "cell_type": "markdown",
   "id": "d3f16814",
   "metadata": {},
   "source": [
    "### sklearn.naive_bayes\n",
    "\n",
    "#### Multinomial Naive Bayes\n",
    "\n",
    "Là Naive Bayes, nhưng dùng [multinomial distribution](https://en.wikipedia.org/wiki/Multinomial_distribution)"
   ]
  },
  {
   "cell_type": "code",
   "execution_count": 43,
   "id": "acc9284b",
   "metadata": {},
   "outputs": [
    {
     "data": {
      "text/plain": [
       "MultinomialNB()"
      ]
     },
     "execution_count": 43,
     "metadata": {},
     "output_type": "execute_result"
    }
   ],
   "source": [
    "multinomial_bayes_model = MultinomialNB()\n",
    "multinomial_bayes_model.fit(XVector_train, y_train)"
   ]
  },
  {
   "cell_type": "code",
   "execution_count": 44,
   "id": "875cd391",
   "metadata": {},
   "outputs": [
    {
     "data": {
      "text/plain": [
       "0.93"
      ]
     },
     "execution_count": 44,
     "metadata": {},
     "output_type": "execute_result"
    }
   ],
   "source": [
    "multinomial_bayes_model.score(XVector_test, y_test)"
   ]
  },
  {
   "cell_type": "code",
   "execution_count": 45,
   "id": "8d6929df",
   "metadata": {},
   "outputs": [
    {
     "name": "stdout",
     "output_type": "stream",
     "text": [
      "              precision    recall  f1-score   support\n",
      "\n",
      "           0       0.98      0.88      0.93        50\n",
      "           1       0.89      0.98      0.93        50\n",
      "\n",
      "    accuracy                           0.93       100\n",
      "   macro avg       0.93      0.93      0.93       100\n",
      "weighted avg       0.93      0.93      0.93       100\n",
      "\n"
     ]
    }
   ],
   "source": [
    "predicted_multinomial = multinomial_bayes_model.predict(XVector_test)\n",
    "print(classification_report(y_test, predicted_multinomial))"
   ]
  },
  {
   "cell_type": "code",
   "execution_count": 46,
   "id": "d919fdcf",
   "metadata": {},
   "outputs": [
    {
     "data": {
      "image/png": "[encoded data removed]",
      "text/plain": [
       "<Figure size 432x288 with 2 Axes>"
      ]
     },
     "metadata": {
      "needs_background": "light"
     },
     "output_type": "display_data"
    }
   ],
   "source": [
    "multinomial_cm = confusion_matrix(y_test, predicted_multinomial)\n",
    "sns.heatmap(multinomial_cm, annot = True)\n",
    "plt.show()"
   ]
  },
  {
   "cell_type": "markdown",
   "id": "f70e8d4f",
   "metadata": {},
   "source": [
    "Nhận xét: accuracy chưa cao như một số model bên trên, nhưng cũng nhanh hơn mấy thuật bên ensemble."
   ]
  },
  {
   "cell_type": "code",
   "execution_count": 47,
   "id": "1992d7f9",
   "metadata": {},
   "outputs": [],
   "source": [
    "# Export ra file pickle\n",
    "with open(model_dir + 'naive_bayes.pkl', 'wb') as f:\n",
    "    pkl.dump(multinomial_bayes_model, f)"
   ]
  },
  {
   "cell_type": "markdown",
   "id": "f90b49f7",
   "metadata": {},
   "source": [
    "### sklearn.svm\n",
    "\n",
    "#### LinearSVC - Linear Support Vector Classifier\n",
    "Dùng hàm tuyến tính để classify bộ dataset."
   ]
  },
  {
   "cell_type": "code",
   "execution_count": 48,
   "id": "33d4d5ff",
   "metadata": {},
   "outputs": [
    {
     "data": {
      "text/plain": [
       "LinearSVC(random_state=42)"
      ]
     },
     "execution_count": 48,
     "metadata": {},
     "output_type": "execute_result"
    }
   ],
   "source": [
    "linear_svc_model = LinearSVC(random_state = 42)\n",
    "linear_svc_model.fit(XVector_train, y_train)"
   ]
  },
  {
   "cell_type": "code",
   "execution_count": 49,
   "id": "9e85c633",
   "metadata": {},
   "outputs": [
    {
     "data": {
      "text/plain": [
       "0.99"
      ]
     },
     "execution_count": 49,
     "metadata": {},
     "output_type": "execute_result"
    }
   ],
   "source": [
    "linear_svc_model.score(XVector_test, y_test)"
   ]
  },
  {
   "cell_type": "code",
   "execution_count": 50,
   "id": "8e8ebe84",
   "metadata": {},
   "outputs": [
    {
     "name": "stdout",
     "output_type": "stream",
     "text": [
      "              precision    recall  f1-score   support\n",
      "\n",
      "           0       0.98      1.00      0.99        50\n",
      "           1       1.00      0.98      0.99        50\n",
      "\n",
      "    accuracy                           0.99       100\n",
      "   macro avg       0.99      0.99      0.99       100\n",
      "weighted avg       0.99      0.99      0.99       100\n",
      "\n"
     ]
    }
   ],
   "source": [
    "predict_linear_svc = linear_svc_model.predict(XVector_test)\n",
    "print(classification_report(y_test, predict_linear_svc))"
   ]
  },
  {
   "cell_type": "code",
   "execution_count": 51,
   "id": "bdfed1fb",
   "metadata": {},
   "outputs": [
    {
     "data": {
      "image/png": "[encoded data removed]",
      "text/plain": [
       "<Figure size 432x288 with 2 Axes>"
      ]
     },
     "metadata": {
      "needs_background": "light"
     },
     "output_type": "display_data"
    }
   ],
   "source": [
    "linear_svc_cm = confusion_matrix(y_test, predict_linear_svc)\n",
    "sns.heatmap(linear_svc_cm, annot = True)\n",
    "plt.show()"
   ]
  },
  {
   "cell_type": "markdown",
   "id": "d2c7e0e0",
   "metadata": {},
   "source": [
    "Nhận xét:\n",
    "- Nhìn có vẻ khả quan, predict sai cũng ít (tất nhiên không ít bằng Decision Tree)"
   ]
  },
  {
   "cell_type": "code",
   "execution_count": 52,
   "id": "aa1c7150",
   "metadata": {},
   "outputs": [],
   "source": [
    "# Export ra file pickle\n",
    "with open(model_dir + 'linear_svc.pkl', 'wb') as f:\n",
    "    pkl.dump(linear_svc_model, f)"
   ]
  },
  {
   "cell_type": "markdown",
   "id": "d4a4ecf0",
   "metadata": {},
   "source": [
    "## Tổng kết\n",
    "So sánh (nhanh) các thuật (xét cùng random_state và tập train, test):\n",
    "\n",
    "|Thuật|Accuracy|Số câu sai|Note|\n",
    "|:----|--------|----------|----|\n",
    "|sklearn.ensemble.GradientBoostingClassifier|1|0|(chạy lâu)|\n",
    "|sklearn.tree.DecisionTreeClassifier|1|0||\n",
    "|sklearn.svm.LinearSVC|0.99|1||\n",
    "|sklearn.linear_model.SGDClassifier|0.99|1||\n",
    "|sklearn.ensemble.RandomForest|0.99|1||\n",
    "|sklearn.linear_model.LogisticRegression|0.99|1||\n",
    "|sklearn.naive_bayes.MultinomialNB|0.93|7||\n",
    "|sklearn.neighbors.KNeighborsClassifier|0.82|18|(chạy lâu)|\n",
    "\n",
    "- Thực ra nhìn là biết xài tree sẽ hiệu quả nhất (xét ngữ cảnh đã học ID3 và thấy nó pro vip thế nào với bộ Iris).\n",
    "- Gradient Boosting cũng xài tree, nhưng số iteration nhiều dẫn đến chạy lâu!\n",
    "- Thằng K-Neighbors là thằng vl nhất, đoán được K đúng là 1 vấn đề."
   ]
  },
  {
   "cell_type": "markdown",
   "id": "59038660",
   "metadata": {},
   "source": [
    "## Further works\n",
    "\n",
    "### Export vectorizer và model cần dùng ra file pickle để load lên xài.\n",
    "\n",
    "More detailed instruction: \n",
    "- Đầu vào: đoạn văn cần đánh giá real/fake news.\n",
    "- Đầu ra: label 0 (fake) hoặc 1 (real).\n",
    "\n",
    "The Pipeline™:\n",
    "1. Dùng hàm preprocess() để tiền xử lí câu,\n",
    "2. Load model và vectorizer lên từ file pickle.\n",
    "3. Dùng vectorizer transform câu thành danh sách các keyword đã có trong vectorizer.\n",
    "4. Dùng model predict label, sau đó output.\n",
    "\n",
    "### Still a text classification problem, but now try to guess the article's topic instead.\n",
    "Gợi ý: đã có cột `subject` trong data ban đầu!\n",
    "\n",
    "Extra-gợi ý: chú ý đây là bài toán multiclass, không còn 2 class như bài toán fakenews detection!"
   ]
  }
 ],
 "metadata": {
  "kernelspec": {
   "display_name": "Python 3 (ipykernel)",
   "language": "python",
   "name": "python3"
  },
  "language_info": {
   "codemirror_mode": {
    "name": "ipython",
    "version": 3
   },
   "file_extension": ".py",
   "mimetype": "text/x-python",
   "name": "python",
   "nbconvert_exporter": "python",
   "pygments_lexer": "ipython3",
   "version": "3.9.7"
  }
 },
 "nbformat": 4,
 "nbformat_minor": 5
}
