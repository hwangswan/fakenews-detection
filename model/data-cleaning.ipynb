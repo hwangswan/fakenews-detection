{
 "cells": [
  {
   "cell_type": "markdown",
   "id": "84d12024",
   "metadata": {},
   "source": [
    "# Xử lí dữ liệu cho fakenews-detection"
   ]
  },
  {
   "cell_type": "code",
   "execution_count": 1,
   "id": "b6aee5bc",
   "metadata": {},
   "outputs": [],
   "source": [
    "import pandas as pd\n",
    "import numpy as np\n",
    "import re\n",
    "import string"
   ]
  },
  {
   "cell_type": "markdown",
   "id": "30b3d721",
   "metadata": {},
   "source": [
    "Đọc dữ liệu từ file csv với pandas"
   ]
  },
  {
   "cell_type": "code",
   "execution_count": 2,
   "id": "8bc70f77",
   "metadata": {},
   "outputs": [],
   "source": [
    "fake_df = pd.read_csv('dataset/Fake.csv')\n",
    "true_df = pd.read_csv('dataset/True.csv')"
   ]
  },
  {
   "cell_type": "markdown",
   "id": "83034222",
   "metadata": {},
   "source": [
    "Xem thử 5 dòng đầu của mỗi tập dữ liệu fake / real"
   ]
  },
  {
   "cell_type": "code",
   "execution_count": 3,
   "id": "87e5e2bd",
   "metadata": {},
   "outputs": [
    {
     "data": {
      "text/html": [
       "<div>\n",
       "<style scoped>\n",
       "    .dataframe tbody tr th:only-of-type {\n",
       "        vertical-align: middle;\n",
       "    }\n",
       "\n",
       "    .dataframe tbody tr th {\n",
       "        vertical-align: top;\n",
       "    }\n",
       "\n",
       "    .dataframe thead th {\n",
       "        text-align: right;\n",
       "    }\n",
       "</style>\n",
       "<table border=\"1\" class=\"dataframe\">\n",
       "  <thead>\n",
       "    <tr style=\"text-align: right;\">\n",
       "      <th></th>\n",
       "      <th>title</th>\n",
       "      <th>text</th>\n",
       "      <th>subject</th>\n",
       "      <th>date</th>\n",
       "    </tr>\n",
       "  </thead>\n",
       "  <tbody>\n",
       "    <tr>\n",
       "      <th>0</th>\n",
       "      <td>Donald Trump Sends Out Embarrassing New Year’...</td>\n",
       "      <td>Donald Trump just couldn t wish all Americans ...</td>\n",
       "      <td>News</td>\n",
       "      <td>December 31, 2017</td>\n",
       "    </tr>\n",
       "    <tr>\n",
       "      <th>1</th>\n",
       "      <td>Drunk Bragging Trump Staffer Started Russian ...</td>\n",
       "      <td>House Intelligence Committee Chairman Devin Nu...</td>\n",
       "      <td>News</td>\n",
       "      <td>December 31, 2017</td>\n",
       "    </tr>\n",
       "    <tr>\n",
       "      <th>2</th>\n",
       "      <td>Sheriff David Clarke Becomes An Internet Joke...</td>\n",
       "      <td>On Friday, it was revealed that former Milwauk...</td>\n",
       "      <td>News</td>\n",
       "      <td>December 30, 2017</td>\n",
       "    </tr>\n",
       "    <tr>\n",
       "      <th>3</th>\n",
       "      <td>Trump Is So Obsessed He Even Has Obama’s Name...</td>\n",
       "      <td>On Christmas day, Donald Trump announced that ...</td>\n",
       "      <td>News</td>\n",
       "      <td>December 29, 2017</td>\n",
       "    </tr>\n",
       "    <tr>\n",
       "      <th>4</th>\n",
       "      <td>Pope Francis Just Called Out Donald Trump Dur...</td>\n",
       "      <td>Pope Francis used his annual Christmas Day mes...</td>\n",
       "      <td>News</td>\n",
       "      <td>December 25, 2017</td>\n",
       "    </tr>\n",
       "  </tbody>\n",
       "</table>\n",
       "</div>"
      ],
      "text/plain": [
       "                                               title  \\\n",
       "0   Donald Trump Sends Out Embarrassing New Year’...   \n",
       "1   Drunk Bragging Trump Staffer Started Russian ...   \n",
       "2   Sheriff David Clarke Becomes An Internet Joke...   \n",
       "3   Trump Is So Obsessed He Even Has Obama’s Name...   \n",
       "4   Pope Francis Just Called Out Donald Trump Dur...   \n",
       "\n",
       "                                                text subject  \\\n",
       "0  Donald Trump just couldn t wish all Americans ...    News   \n",
       "1  House Intelligence Committee Chairman Devin Nu...    News   \n",
       "2  On Friday, it was revealed that former Milwauk...    News   \n",
       "3  On Christmas day, Donald Trump announced that ...    News   \n",
       "4  Pope Francis used his annual Christmas Day mes...    News   \n",
       "\n",
       "                date  \n",
       "0  December 31, 2017  \n",
       "1  December 31, 2017  \n",
       "2  December 30, 2017  \n",
       "3  December 29, 2017  \n",
       "4  December 25, 2017  "
      ]
     },
     "execution_count": 3,
     "metadata": {},
     "output_type": "execute_result"
    }
   ],
   "source": [
    "fake_df.head(5)"
   ]
  },
  {
   "cell_type": "code",
   "execution_count": 4,
   "id": "beee9e26",
   "metadata": {},
   "outputs": [
    {
     "data": {
      "text/html": [
       "<div>\n",
       "<style scoped>\n",
       "    .dataframe tbody tr th:only-of-type {\n",
       "        vertical-align: middle;\n",
       "    }\n",
       "\n",
       "    .dataframe tbody tr th {\n",
       "        vertical-align: top;\n",
       "    }\n",
       "\n",
       "    .dataframe thead th {\n",
       "        text-align: right;\n",
       "    }\n",
       "</style>\n",
       "<table border=\"1\" class=\"dataframe\">\n",
       "  <thead>\n",
       "    <tr style=\"text-align: right;\">\n",
       "      <th></th>\n",
       "      <th>title</th>\n",
       "      <th>text</th>\n",
       "      <th>subject</th>\n",
       "      <th>date</th>\n",
       "    </tr>\n",
       "  </thead>\n",
       "  <tbody>\n",
       "    <tr>\n",
       "      <th>0</th>\n",
       "      <td>As U.S. budget fight looms, Republicans flip t...</td>\n",
       "      <td>WASHINGTON (Reuters) - The head of a conservat...</td>\n",
       "      <td>politicsNews</td>\n",
       "      <td>December 31, 2017</td>\n",
       "    </tr>\n",
       "    <tr>\n",
       "      <th>1</th>\n",
       "      <td>U.S. military to accept transgender recruits o...</td>\n",
       "      <td>WASHINGTON (Reuters) - Transgender people will...</td>\n",
       "      <td>politicsNews</td>\n",
       "      <td>December 29, 2017</td>\n",
       "    </tr>\n",
       "    <tr>\n",
       "      <th>2</th>\n",
       "      <td>Senior U.S. Republican senator: 'Let Mr. Muell...</td>\n",
       "      <td>WASHINGTON (Reuters) - The special counsel inv...</td>\n",
       "      <td>politicsNews</td>\n",
       "      <td>December 31, 2017</td>\n",
       "    </tr>\n",
       "    <tr>\n",
       "      <th>3</th>\n",
       "      <td>FBI Russia probe helped by Australian diplomat...</td>\n",
       "      <td>WASHINGTON (Reuters) - Trump campaign adviser ...</td>\n",
       "      <td>politicsNews</td>\n",
       "      <td>December 30, 2017</td>\n",
       "    </tr>\n",
       "    <tr>\n",
       "      <th>4</th>\n",
       "      <td>Trump wants Postal Service to charge 'much mor...</td>\n",
       "      <td>SEATTLE/WASHINGTON (Reuters) - President Donal...</td>\n",
       "      <td>politicsNews</td>\n",
       "      <td>December 29, 2017</td>\n",
       "    </tr>\n",
       "  </tbody>\n",
       "</table>\n",
       "</div>"
      ],
      "text/plain": [
       "                                               title  \\\n",
       "0  As U.S. budget fight looms, Republicans flip t...   \n",
       "1  U.S. military to accept transgender recruits o...   \n",
       "2  Senior U.S. Republican senator: 'Let Mr. Muell...   \n",
       "3  FBI Russia probe helped by Australian diplomat...   \n",
       "4  Trump wants Postal Service to charge 'much mor...   \n",
       "\n",
       "                                                text       subject  \\\n",
       "0  WASHINGTON (Reuters) - The head of a conservat...  politicsNews   \n",
       "1  WASHINGTON (Reuters) - Transgender people will...  politicsNews   \n",
       "2  WASHINGTON (Reuters) - The special counsel inv...  politicsNews   \n",
       "3  WASHINGTON (Reuters) - Trump campaign adviser ...  politicsNews   \n",
       "4  SEATTLE/WASHINGTON (Reuters) - President Donal...  politicsNews   \n",
       "\n",
       "                 date  \n",
       "0  December 31, 2017   \n",
       "1  December 29, 2017   \n",
       "2  December 31, 2017   \n",
       "3  December 30, 2017   \n",
       "4  December 29, 2017   "
      ]
     },
     "execution_count": 4,
     "metadata": {},
     "output_type": "execute_result"
    }
   ],
   "source": [
    "true_df.head(5)"
   ]
  },
  {
   "cell_type": "markdown",
   "id": "14df5cf2",
   "metadata": {},
   "source": [
    "## Thêm class đánh dấu tin fake / real"
   ]
  },
  {
   "cell_type": "code",
   "execution_count": 5,
   "id": "71993ccc",
   "metadata": {},
   "outputs": [],
   "source": [
    "true_df['class'] = 1\n",
    "fake_df['class'] = 0"
   ]
  },
  {
   "cell_type": "code",
   "execution_count": 6,
   "id": "6529608a",
   "metadata": {},
   "outputs": [
    {
     "data": {
      "text/plain": [
       "(21417, 5)"
      ]
     },
     "execution_count": 6,
     "metadata": {},
     "output_type": "execute_result"
    }
   ],
   "source": [
    "true_df.shape"
   ]
  },
  {
   "cell_type": "code",
   "execution_count": 7,
   "id": "f36836bd",
   "metadata": {},
   "outputs": [
    {
     "data": {
      "text/plain": [
       "(23481, 5)"
      ]
     },
     "execution_count": 7,
     "metadata": {},
     "output_type": "execute_result"
    }
   ],
   "source": [
    "fake_df.shape"
   ]
  },
  {
   "cell_type": "markdown",
   "id": "dabdd41d",
   "metadata": {},
   "source": [
    "Tách riêng 50 dòng cuối của mỗi loại dành để test manual, tổng cộng sẽ có 100 dòng để test."
   ]
  },
  {
   "cell_type": "code",
   "execution_count": 8,
   "id": "60008a61",
   "metadata": {},
   "outputs": [],
   "source": [
    "fake_df_test = fake_df.tail(50)\n",
    "true_df_test = true_df.tail(50)"
   ]
  },
  {
   "cell_type": "code",
   "execution_count": 9,
   "id": "a409da4e",
   "metadata": {},
   "outputs": [
    {
     "data": {
      "text/html": [
       "<div>\n",
       "<style scoped>\n",
       "    .dataframe tbody tr th:only-of-type {\n",
       "        vertical-align: middle;\n",
       "    }\n",
       "\n",
       "    .dataframe tbody tr th {\n",
       "        vertical-align: top;\n",
       "    }\n",
       "\n",
       "    .dataframe thead th {\n",
       "        text-align: right;\n",
       "    }\n",
       "</style>\n",
       "<table border=\"1\" class=\"dataframe\">\n",
       "  <thead>\n",
       "    <tr style=\"text-align: right;\">\n",
       "      <th></th>\n",
       "      <th>title</th>\n",
       "      <th>text</th>\n",
       "      <th>subject</th>\n",
       "      <th>date</th>\n",
       "      <th>class</th>\n",
       "    </tr>\n",
       "  </thead>\n",
       "  <tbody>\n",
       "    <tr>\n",
       "      <th>23431</th>\n",
       "      <td>BOILER ROOM – EP #46 – Murder, Witchery, Polit...</td>\n",
       "      <td>Tune in to the Alternate Current Radio Network...</td>\n",
       "      <td>Middle-east</td>\n",
       "      <td>March 3, 2016</td>\n",
       "      <td>0</td>\n",
       "    </tr>\n",
       "    <tr>\n",
       "      <th>23432</th>\n",
       "      <td>Survey: Top Ten Fears of 2015</td>\n",
       "      <td>Truthstream MediaOut of 88 potential horrors ...</td>\n",
       "      <td>Middle-east</td>\n",
       "      <td>February 29, 2016</td>\n",
       "      <td>0</td>\n",
       "    </tr>\n",
       "    <tr>\n",
       "      <th>23433</th>\n",
       "      <td>SHOUT POLL: Should Apple Give FBI Backdoor Acc...</td>\n",
       "      <td>21st Century Wire asks HAVE YOUR SHOUT: Apple...</td>\n",
       "      <td>Middle-east</td>\n",
       "      <td>February 27, 2016</td>\n",
       "      <td>0</td>\n",
       "    </tr>\n",
       "    <tr>\n",
       "      <th>23434</th>\n",
       "      <td>The Final Control: TPP, TTIP, TISA Global Corp...</td>\n",
       "      <td>21st Century Wire says This is a new geopoliti...</td>\n",
       "      <td>Middle-east</td>\n",
       "      <td>February 27, 2016</td>\n",
       "      <td>0</td>\n",
       "    </tr>\n",
       "    <tr>\n",
       "      <th>23435</th>\n",
       "      <td>Blood Sport: GOP Presidential Race Takes Anoth...</td>\n",
       "      <td>Patrick Henningsen 21st Century WireAs Baron R...</td>\n",
       "      <td>Middle-east</td>\n",
       "      <td>February 26, 2016</td>\n",
       "      <td>0</td>\n",
       "    </tr>\n",
       "    <tr>\n",
       "      <th>23436</th>\n",
       "      <td>HIDDEN ORDER: Was the Death of Justice Scalia ...</td>\n",
       "      <td>Shawn Helton   21st Century WireWith the Unite...</td>\n",
       "      <td>Middle-east</td>\n",
       "      <td>February 26, 2016</td>\n",
       "      <td>0</td>\n",
       "    </tr>\n",
       "    <tr>\n",
       "      <th>23437</th>\n",
       "      <td>The Android Affair: Humanity Outsourced</td>\n",
       "      <td>Randy Johnson 21st Century WireThe future is c...</td>\n",
       "      <td>Middle-east</td>\n",
       "      <td>February 25, 2016</td>\n",
       "      <td>0</td>\n",
       "    </tr>\n",
       "    <tr>\n",
       "      <th>23438</th>\n",
       "      <td>BOILER ROOM – EP #45 – Horror Hotel, Trump Gat...</td>\n",
       "      <td>Tune in to the Alternate Current Radio Network...</td>\n",
       "      <td>Middle-east</td>\n",
       "      <td>February 24, 2016</td>\n",
       "      <td>0</td>\n",
       "    </tr>\n",
       "    <tr>\n",
       "      <th>23439</th>\n",
       "      <td>Syria Ceasefire Deal: A Cynical Ploy by Washin...</td>\n",
       "      <td>21st Century Wire says This latest diplomatic ...</td>\n",
       "      <td>Middle-east</td>\n",
       "      <td>February 24, 2016</td>\n",
       "      <td>0</td>\n",
       "    </tr>\n",
       "    <tr>\n",
       "      <th>23440</th>\n",
       "      <td>Watch as Trump Gatecrashes Glenn Beck’s Cruz C...</td>\n",
       "      <td>21st Century Wire says One TV personality Tru...</td>\n",
       "      <td>Middle-east</td>\n",
       "      <td>February 24, 2016</td>\n",
       "      <td>0</td>\n",
       "    </tr>\n",
       "  </tbody>\n",
       "</table>\n",
       "</div>"
      ],
      "text/plain": [
       "                                                   title  \\\n",
       "23431  BOILER ROOM – EP #46 – Murder, Witchery, Polit...   \n",
       "23432                      Survey: Top Ten Fears of 2015   \n",
       "23433  SHOUT POLL: Should Apple Give FBI Backdoor Acc...   \n",
       "23434  The Final Control: TPP, TTIP, TISA Global Corp...   \n",
       "23435  Blood Sport: GOP Presidential Race Takes Anoth...   \n",
       "23436  HIDDEN ORDER: Was the Death of Justice Scalia ...   \n",
       "23437            The Android Affair: Humanity Outsourced   \n",
       "23438  BOILER ROOM – EP #45 – Horror Hotel, Trump Gat...   \n",
       "23439  Syria Ceasefire Deal: A Cynical Ploy by Washin...   \n",
       "23440  Watch as Trump Gatecrashes Glenn Beck’s Cruz C...   \n",
       "\n",
       "                                                    text      subject  \\\n",
       "23431  Tune in to the Alternate Current Radio Network...  Middle-east   \n",
       "23432   Truthstream MediaOut of 88 potential horrors ...  Middle-east   \n",
       "23433   21st Century Wire asks HAVE YOUR SHOUT: Apple...  Middle-east   \n",
       "23434  21st Century Wire says This is a new geopoliti...  Middle-east   \n",
       "23435  Patrick Henningsen 21st Century WireAs Baron R...  Middle-east   \n",
       "23436  Shawn Helton   21st Century WireWith the Unite...  Middle-east   \n",
       "23437  Randy Johnson 21st Century WireThe future is c...  Middle-east   \n",
       "23438  Tune in to the Alternate Current Radio Network...  Middle-east   \n",
       "23439  21st Century Wire says This latest diplomatic ...  Middle-east   \n",
       "23440   21st Century Wire says One TV personality Tru...  Middle-east   \n",
       "\n",
       "                    date  class  \n",
       "23431      March 3, 2016      0  \n",
       "23432  February 29, 2016      0  \n",
       "23433  February 27, 2016      0  \n",
       "23434  February 27, 2016      0  \n",
       "23435  February 26, 2016      0  \n",
       "23436  February 26, 2016      0  \n",
       "23437  February 25, 2016      0  \n",
       "23438  February 24, 2016      0  \n",
       "23439  February 24, 2016      0  \n",
       "23440  February 24, 2016      0  "
      ]
     },
     "execution_count": 9,
     "metadata": {},
     "output_type": "execute_result"
    }
   ],
   "source": [
    "fake_df_test.head(10)"
   ]
  },
  {
   "cell_type": "code",
   "execution_count": 10,
   "id": "c56ca47c",
   "metadata": {},
   "outputs": [
    {
     "data": {
      "text/html": [
       "<div>\n",
       "<style scoped>\n",
       "    .dataframe tbody tr th:only-of-type {\n",
       "        vertical-align: middle;\n",
       "    }\n",
       "\n",
       "    .dataframe tbody tr th {\n",
       "        vertical-align: top;\n",
       "    }\n",
       "\n",
       "    .dataframe thead th {\n",
       "        text-align: right;\n",
       "    }\n",
       "</style>\n",
       "<table border=\"1\" class=\"dataframe\">\n",
       "  <thead>\n",
       "    <tr style=\"text-align: right;\">\n",
       "      <th></th>\n",
       "      <th>title</th>\n",
       "      <th>text</th>\n",
       "      <th>subject</th>\n",
       "      <th>date</th>\n",
       "      <th>class</th>\n",
       "    </tr>\n",
       "  </thead>\n",
       "  <tbody>\n",
       "    <tr>\n",
       "      <th>21367</th>\n",
       "      <td>As guns fall silent, Benghazi residents return...</td>\n",
       "      <td>BENGHAZI, Libya (Reuters) - Two months after t...</td>\n",
       "      <td>worldnews</td>\n",
       "      <td>August 24, 2017</td>\n",
       "      <td>1</td>\n",
       "    </tr>\n",
       "    <tr>\n",
       "      <th>21368</th>\n",
       "      <td>Venezuela's injured activists struggle to heal</td>\n",
       "      <td>CARACAS (Reuters) - Jesus Ibarra, a 19-year-ol...</td>\n",
       "      <td>worldnews</td>\n",
       "      <td>August 24, 2017</td>\n",
       "      <td>1</td>\n",
       "    </tr>\n",
       "    <tr>\n",
       "      <th>21369</th>\n",
       "      <td>India's push to broaden use of its biometric d...</td>\n",
       "      <td>(Reuters) - India s Supreme Court ruled on Thu...</td>\n",
       "      <td>worldnews</td>\n",
       "      <td>August 24, 2017</td>\n",
       "      <td>1</td>\n",
       "    </tr>\n",
       "    <tr>\n",
       "      <th>21370</th>\n",
       "      <td>Finnish police release one knife attack suspect</td>\n",
       "      <td>HELSINKI (Reuters) - Finnish police on Thursda...</td>\n",
       "      <td>worldnews</td>\n",
       "      <td>August 24, 2017</td>\n",
       "      <td>1</td>\n",
       "    </tr>\n",
       "    <tr>\n",
       "      <th>21371</th>\n",
       "      <td>As Syria war tightens, U.S. and Russia militar...</td>\n",
       "      <td>AL UDEID AIR BASE, Qatar (Reuters) - Even as t...</td>\n",
       "      <td>worldnews</td>\n",
       "      <td>August 24, 2017</td>\n",
       "      <td>1</td>\n",
       "    </tr>\n",
       "    <tr>\n",
       "      <th>21372</th>\n",
       "      <td>U.N. calls for pause in air strikes to spare c...</td>\n",
       "      <td>GENEVA (Reuters) - The United Nations called o...</td>\n",
       "      <td>worldnews</td>\n",
       "      <td>August 24, 2017</td>\n",
       "      <td>1</td>\n",
       "    </tr>\n",
       "    <tr>\n",
       "      <th>21373</th>\n",
       "      <td>EU citizens leaving UK pushes down net migrati...</td>\n",
       "      <td>LONDON (Reuters) - Net migration to Britain fe...</td>\n",
       "      <td>worldnews</td>\n",
       "      <td>August 24, 2017</td>\n",
       "      <td>1</td>\n",
       "    </tr>\n",
       "    <tr>\n",
       "      <th>21374</th>\n",
       "      <td>Excessive force won't solve Myanmar's Rohingya...</td>\n",
       "      <td>YANGON (Reuters) - Myanmar should respond to a...</td>\n",
       "      <td>worldnews</td>\n",
       "      <td>August 24, 2017</td>\n",
       "      <td>1</td>\n",
       "    </tr>\n",
       "    <tr>\n",
       "      <th>21375</th>\n",
       "      <td>Britain to study effect of foreign students on...</td>\n",
       "      <td>LONDON (Reuters) - Britain commissioned a repo...</td>\n",
       "      <td>worldnews</td>\n",
       "      <td>August 24, 2017</td>\n",
       "      <td>1</td>\n",
       "    </tr>\n",
       "    <tr>\n",
       "      <th>21376</th>\n",
       "      <td>Turkish nationalist leader says Iraqi Kurdish ...</td>\n",
       "      <td>ANKARA (Reuters) - The head of Turkey s nation...</td>\n",
       "      <td>worldnews</td>\n",
       "      <td>August 24, 2017</td>\n",
       "      <td>1</td>\n",
       "    </tr>\n",
       "  </tbody>\n",
       "</table>\n",
       "</div>"
      ],
      "text/plain": [
       "                                                   title  \\\n",
       "21367  As guns fall silent, Benghazi residents return...   \n",
       "21368     Venezuela's injured activists struggle to heal   \n",
       "21369  India's push to broaden use of its biometric d...   \n",
       "21370    Finnish police release one knife attack suspect   \n",
       "21371  As Syria war tightens, U.S. and Russia militar...   \n",
       "21372  U.N. calls for pause in air strikes to spare c...   \n",
       "21373  EU citizens leaving UK pushes down net migrati...   \n",
       "21374  Excessive force won't solve Myanmar's Rohingya...   \n",
       "21375  Britain to study effect of foreign students on...   \n",
       "21376  Turkish nationalist leader says Iraqi Kurdish ...   \n",
       "\n",
       "                                                    text    subject  \\\n",
       "21367  BENGHAZI, Libya (Reuters) - Two months after t...  worldnews   \n",
       "21368  CARACAS (Reuters) - Jesus Ibarra, a 19-year-ol...  worldnews   \n",
       "21369  (Reuters) - India s Supreme Court ruled on Thu...  worldnews   \n",
       "21370  HELSINKI (Reuters) - Finnish police on Thursda...  worldnews   \n",
       "21371  AL UDEID AIR BASE, Qatar (Reuters) - Even as t...  worldnews   \n",
       "21372  GENEVA (Reuters) - The United Nations called o...  worldnews   \n",
       "21373  LONDON (Reuters) - Net migration to Britain fe...  worldnews   \n",
       "21374  YANGON (Reuters) - Myanmar should respond to a...  worldnews   \n",
       "21375  LONDON (Reuters) - Britain commissioned a repo...  worldnews   \n",
       "21376  ANKARA (Reuters) - The head of Turkey s nation...  worldnews   \n",
       "\n",
       "                   date  class  \n",
       "21367  August 24, 2017       1  \n",
       "21368  August 24, 2017       1  \n",
       "21369  August 24, 2017       1  \n",
       "21370  August 24, 2017       1  \n",
       "21371  August 24, 2017       1  \n",
       "21372  August 24, 2017       1  \n",
       "21373  August 24, 2017       1  \n",
       "21374  August 24, 2017       1  \n",
       "21375  August 24, 2017       1  \n",
       "21376  August 24, 2017       1  "
      ]
     },
     "execution_count": 10,
     "metadata": {},
     "output_type": "execute_result"
    }
   ],
   "source": [
    "true_df_test.head(10)"
   ]
  },
  {
   "cell_type": "markdown",
   "id": "3c58d745",
   "metadata": {},
   "source": [
    "Vì đã lấy 10 dòng cuối của mỗi set làm manual testing data, drop 10 dòng cuối đó khỏi data gốc."
   ]
  },
  {
   "cell_type": "code",
   "execution_count": 11,
   "id": "8b50a070",
   "metadata": {},
   "outputs": [],
   "source": [
    "true_df.drop(true_df.tail(50).index, inplace = True)"
   ]
  },
  {
   "cell_type": "code",
   "execution_count": 12,
   "id": "c0753b17",
   "metadata": {},
   "outputs": [],
   "source": [
    "fake_df.drop(fake_df.tail(50).index, inplace = True)"
   ]
  },
  {
   "cell_type": "code",
   "execution_count": 13,
   "id": "eb4e69ff",
   "metadata": {},
   "outputs": [
    {
     "data": {
      "text/plain": [
       "(21367, 5)"
      ]
     },
     "execution_count": 13,
     "metadata": {},
     "output_type": "execute_result"
    }
   ],
   "source": [
    "true_df.shape"
   ]
  },
  {
   "cell_type": "code",
   "execution_count": 14,
   "id": "8b283f31",
   "metadata": {},
   "outputs": [
    {
     "data": {
      "text/plain": [
       "(23431, 5)"
      ]
     },
     "execution_count": 14,
     "metadata": {},
     "output_type": "execute_result"
    }
   ],
   "source": [
    "fake_df.shape"
   ]
  },
  {
   "cell_type": "markdown",
   "id": "12d7a72f",
   "metadata": {},
   "source": [
    "Merge 2 tập fake và real lại thành 1 tập train."
   ]
  },
  {
   "cell_type": "code",
   "execution_count": 15,
   "id": "ab0a1d74",
   "metadata": {},
   "outputs": [],
   "source": [
    "train_df = pd.concat([true_df, fake_df], axis = 0)"
   ]
  },
  {
   "cell_type": "code",
   "execution_count": 16,
   "id": "9b1305ee",
   "metadata": {},
   "outputs": [
    {
     "data": {
      "text/plain": [
       "(44798, 5)"
      ]
     },
     "execution_count": 16,
     "metadata": {},
     "output_type": "execute_result"
    }
   ],
   "source": [
    "train_df.shape"
   ]
  },
  {
   "cell_type": "code",
   "execution_count": 17,
   "id": "79a3ee01",
   "metadata": {},
   "outputs": [
    {
     "data": {
      "text/html": [
       "<div>\n",
       "<style scoped>\n",
       "    .dataframe tbody tr th:only-of-type {\n",
       "        vertical-align: middle;\n",
       "    }\n",
       "\n",
       "    .dataframe tbody tr th {\n",
       "        vertical-align: top;\n",
       "    }\n",
       "\n",
       "    .dataframe thead th {\n",
       "        text-align: right;\n",
       "    }\n",
       "</style>\n",
       "<table border=\"1\" class=\"dataframe\">\n",
       "  <thead>\n",
       "    <tr style=\"text-align: right;\">\n",
       "      <th></th>\n",
       "      <th>title</th>\n",
       "      <th>text</th>\n",
       "      <th>subject</th>\n",
       "      <th>date</th>\n",
       "      <th>class</th>\n",
       "    </tr>\n",
       "  </thead>\n",
       "  <tbody>\n",
       "    <tr>\n",
       "      <th>0</th>\n",
       "      <td>As U.S. budget fight looms, Republicans flip t...</td>\n",
       "      <td>WASHINGTON (Reuters) - The head of a conservat...</td>\n",
       "      <td>politicsNews</td>\n",
       "      <td>December 31, 2017</td>\n",
       "      <td>1</td>\n",
       "    </tr>\n",
       "    <tr>\n",
       "      <th>1</th>\n",
       "      <td>U.S. military to accept transgender recruits o...</td>\n",
       "      <td>WASHINGTON (Reuters) - Transgender people will...</td>\n",
       "      <td>politicsNews</td>\n",
       "      <td>December 29, 2017</td>\n",
       "      <td>1</td>\n",
       "    </tr>\n",
       "    <tr>\n",
       "      <th>2</th>\n",
       "      <td>Senior U.S. Republican senator: 'Let Mr. Muell...</td>\n",
       "      <td>WASHINGTON (Reuters) - The special counsel inv...</td>\n",
       "      <td>politicsNews</td>\n",
       "      <td>December 31, 2017</td>\n",
       "      <td>1</td>\n",
       "    </tr>\n",
       "    <tr>\n",
       "      <th>3</th>\n",
       "      <td>FBI Russia probe helped by Australian diplomat...</td>\n",
       "      <td>WASHINGTON (Reuters) - Trump campaign adviser ...</td>\n",
       "      <td>politicsNews</td>\n",
       "      <td>December 30, 2017</td>\n",
       "      <td>1</td>\n",
       "    </tr>\n",
       "    <tr>\n",
       "      <th>4</th>\n",
       "      <td>Trump wants Postal Service to charge 'much mor...</td>\n",
       "      <td>SEATTLE/WASHINGTON (Reuters) - President Donal...</td>\n",
       "      <td>politicsNews</td>\n",
       "      <td>December 29, 2017</td>\n",
       "      <td>1</td>\n",
       "    </tr>\n",
       "    <tr>\n",
       "      <th>5</th>\n",
       "      <td>White House, Congress prepare for talks on spe...</td>\n",
       "      <td>WEST PALM BEACH, Fla./WASHINGTON (Reuters) - T...</td>\n",
       "      <td>politicsNews</td>\n",
       "      <td>December 29, 2017</td>\n",
       "      <td>1</td>\n",
       "    </tr>\n",
       "    <tr>\n",
       "      <th>6</th>\n",
       "      <td>Trump says Russia probe will be fair, but time...</td>\n",
       "      <td>WEST PALM BEACH, Fla (Reuters) - President Don...</td>\n",
       "      <td>politicsNews</td>\n",
       "      <td>December 29, 2017</td>\n",
       "      <td>1</td>\n",
       "    </tr>\n",
       "    <tr>\n",
       "      <th>7</th>\n",
       "      <td>Factbox: Trump on Twitter (Dec 29) - Approval ...</td>\n",
       "      <td>The following statements were posted to the ve...</td>\n",
       "      <td>politicsNews</td>\n",
       "      <td>December 29, 2017</td>\n",
       "      <td>1</td>\n",
       "    </tr>\n",
       "    <tr>\n",
       "      <th>8</th>\n",
       "      <td>Trump on Twitter (Dec 28) - Global Warming</td>\n",
       "      <td>The following statements were posted to the ve...</td>\n",
       "      <td>politicsNews</td>\n",
       "      <td>December 29, 2017</td>\n",
       "      <td>1</td>\n",
       "    </tr>\n",
       "    <tr>\n",
       "      <th>9</th>\n",
       "      <td>Alabama official to certify Senator-elect Jone...</td>\n",
       "      <td>WASHINGTON (Reuters) - Alabama Secretary of St...</td>\n",
       "      <td>politicsNews</td>\n",
       "      <td>December 28, 2017</td>\n",
       "      <td>1</td>\n",
       "    </tr>\n",
       "  </tbody>\n",
       "</table>\n",
       "</div>"
      ],
      "text/plain": [
       "                                               title  \\\n",
       "0  As U.S. budget fight looms, Republicans flip t...   \n",
       "1  U.S. military to accept transgender recruits o...   \n",
       "2  Senior U.S. Republican senator: 'Let Mr. Muell...   \n",
       "3  FBI Russia probe helped by Australian diplomat...   \n",
       "4  Trump wants Postal Service to charge 'much mor...   \n",
       "5  White House, Congress prepare for talks on spe...   \n",
       "6  Trump says Russia probe will be fair, but time...   \n",
       "7  Factbox: Trump on Twitter (Dec 29) - Approval ...   \n",
       "8         Trump on Twitter (Dec 28) - Global Warming   \n",
       "9  Alabama official to certify Senator-elect Jone...   \n",
       "\n",
       "                                                text       subject  \\\n",
       "0  WASHINGTON (Reuters) - The head of a conservat...  politicsNews   \n",
       "1  WASHINGTON (Reuters) - Transgender people will...  politicsNews   \n",
       "2  WASHINGTON (Reuters) - The special counsel inv...  politicsNews   \n",
       "3  WASHINGTON (Reuters) - Trump campaign adviser ...  politicsNews   \n",
       "4  SEATTLE/WASHINGTON (Reuters) - President Donal...  politicsNews   \n",
       "5  WEST PALM BEACH, Fla./WASHINGTON (Reuters) - T...  politicsNews   \n",
       "6  WEST PALM BEACH, Fla (Reuters) - President Don...  politicsNews   \n",
       "7  The following statements were posted to the ve...  politicsNews   \n",
       "8  The following statements were posted to the ve...  politicsNews   \n",
       "9  WASHINGTON (Reuters) - Alabama Secretary of St...  politicsNews   \n",
       "\n",
       "                 date  class  \n",
       "0  December 31, 2017       1  \n",
       "1  December 29, 2017       1  \n",
       "2  December 31, 2017       1  \n",
       "3  December 30, 2017       1  \n",
       "4  December 29, 2017       1  \n",
       "5  December 29, 2017       1  \n",
       "6  December 29, 2017       1  \n",
       "7  December 29, 2017       1  \n",
       "8  December 29, 2017       1  \n",
       "9  December 28, 2017       1  "
      ]
     },
     "execution_count": 17,
     "metadata": {},
     "output_type": "execute_result"
    }
   ],
   "source": [
    "train_df.head(10)"
   ]
  },
  {
   "cell_type": "markdown",
   "id": "5e21dc13",
   "metadata": {},
   "source": [
    "Merge luôn 2 tập fake_test và real_test thành 1 tập test."
   ]
  },
  {
   "cell_type": "code",
   "execution_count": 18,
   "id": "5f897f67",
   "metadata": {},
   "outputs": [],
   "source": [
    "test_df = pd.concat([fake_df_test, true_df_test], axis = 0)"
   ]
  },
  {
   "cell_type": "code",
   "execution_count": 19,
   "id": "57c37bb3",
   "metadata": {},
   "outputs": [
    {
     "data": {
      "text/plain": [
       "(100, 5)"
      ]
     },
     "execution_count": 19,
     "metadata": {},
     "output_type": "execute_result"
    }
   ],
   "source": [
    "test_df.shape"
   ]
  },
  {
   "cell_type": "code",
   "execution_count": 20,
   "id": "a68bcf96",
   "metadata": {},
   "outputs": [
    {
     "data": {
      "text/html": [
       "<div>\n",
       "<style scoped>\n",
       "    .dataframe tbody tr th:only-of-type {\n",
       "        vertical-align: middle;\n",
       "    }\n",
       "\n",
       "    .dataframe tbody tr th {\n",
       "        vertical-align: top;\n",
       "    }\n",
       "\n",
       "    .dataframe thead th {\n",
       "        text-align: right;\n",
       "    }\n",
       "</style>\n",
       "<table border=\"1\" class=\"dataframe\">\n",
       "  <thead>\n",
       "    <tr style=\"text-align: right;\">\n",
       "      <th></th>\n",
       "      <th>title</th>\n",
       "      <th>text</th>\n",
       "      <th>subject</th>\n",
       "      <th>date</th>\n",
       "      <th>class</th>\n",
       "    </tr>\n",
       "  </thead>\n",
       "  <tbody>\n",
       "    <tr>\n",
       "      <th>23431</th>\n",
       "      <td>BOILER ROOM – EP #46 – Murder, Witchery, Polit...</td>\n",
       "      <td>Tune in to the Alternate Current Radio Network...</td>\n",
       "      <td>Middle-east</td>\n",
       "      <td>March 3, 2016</td>\n",
       "      <td>0</td>\n",
       "    </tr>\n",
       "    <tr>\n",
       "      <th>23432</th>\n",
       "      <td>Survey: Top Ten Fears of 2015</td>\n",
       "      <td>Truthstream MediaOut of 88 potential horrors ...</td>\n",
       "      <td>Middle-east</td>\n",
       "      <td>February 29, 2016</td>\n",
       "      <td>0</td>\n",
       "    </tr>\n",
       "    <tr>\n",
       "      <th>23433</th>\n",
       "      <td>SHOUT POLL: Should Apple Give FBI Backdoor Acc...</td>\n",
       "      <td>21st Century Wire asks HAVE YOUR SHOUT: Apple...</td>\n",
       "      <td>Middle-east</td>\n",
       "      <td>February 27, 2016</td>\n",
       "      <td>0</td>\n",
       "    </tr>\n",
       "    <tr>\n",
       "      <th>23434</th>\n",
       "      <td>The Final Control: TPP, TTIP, TISA Global Corp...</td>\n",
       "      <td>21st Century Wire says This is a new geopoliti...</td>\n",
       "      <td>Middle-east</td>\n",
       "      <td>February 27, 2016</td>\n",
       "      <td>0</td>\n",
       "    </tr>\n",
       "    <tr>\n",
       "      <th>23435</th>\n",
       "      <td>Blood Sport: GOP Presidential Race Takes Anoth...</td>\n",
       "      <td>Patrick Henningsen 21st Century WireAs Baron R...</td>\n",
       "      <td>Middle-east</td>\n",
       "      <td>February 26, 2016</td>\n",
       "      <td>0</td>\n",
       "    </tr>\n",
       "    <tr>\n",
       "      <th>23436</th>\n",
       "      <td>HIDDEN ORDER: Was the Death of Justice Scalia ...</td>\n",
       "      <td>Shawn Helton   21st Century WireWith the Unite...</td>\n",
       "      <td>Middle-east</td>\n",
       "      <td>February 26, 2016</td>\n",
       "      <td>0</td>\n",
       "    </tr>\n",
       "    <tr>\n",
       "      <th>23437</th>\n",
       "      <td>The Android Affair: Humanity Outsourced</td>\n",
       "      <td>Randy Johnson 21st Century WireThe future is c...</td>\n",
       "      <td>Middle-east</td>\n",
       "      <td>February 25, 2016</td>\n",
       "      <td>0</td>\n",
       "    </tr>\n",
       "    <tr>\n",
       "      <th>23438</th>\n",
       "      <td>BOILER ROOM – EP #45 – Horror Hotel, Trump Gat...</td>\n",
       "      <td>Tune in to the Alternate Current Radio Network...</td>\n",
       "      <td>Middle-east</td>\n",
       "      <td>February 24, 2016</td>\n",
       "      <td>0</td>\n",
       "    </tr>\n",
       "    <tr>\n",
       "      <th>23439</th>\n",
       "      <td>Syria Ceasefire Deal: A Cynical Ploy by Washin...</td>\n",
       "      <td>21st Century Wire says This latest diplomatic ...</td>\n",
       "      <td>Middle-east</td>\n",
       "      <td>February 24, 2016</td>\n",
       "      <td>0</td>\n",
       "    </tr>\n",
       "    <tr>\n",
       "      <th>23440</th>\n",
       "      <td>Watch as Trump Gatecrashes Glenn Beck’s Cruz C...</td>\n",
       "      <td>21st Century Wire says One TV personality Tru...</td>\n",
       "      <td>Middle-east</td>\n",
       "      <td>February 24, 2016</td>\n",
       "      <td>0</td>\n",
       "    </tr>\n",
       "  </tbody>\n",
       "</table>\n",
       "</div>"
      ],
      "text/plain": [
       "                                                   title  \\\n",
       "23431  BOILER ROOM – EP #46 – Murder, Witchery, Polit...   \n",
       "23432                      Survey: Top Ten Fears of 2015   \n",
       "23433  SHOUT POLL: Should Apple Give FBI Backdoor Acc...   \n",
       "23434  The Final Control: TPP, TTIP, TISA Global Corp...   \n",
       "23435  Blood Sport: GOP Presidential Race Takes Anoth...   \n",
       "23436  HIDDEN ORDER: Was the Death of Justice Scalia ...   \n",
       "23437            The Android Affair: Humanity Outsourced   \n",
       "23438  BOILER ROOM – EP #45 – Horror Hotel, Trump Gat...   \n",
       "23439  Syria Ceasefire Deal: A Cynical Ploy by Washin...   \n",
       "23440  Watch as Trump Gatecrashes Glenn Beck’s Cruz C...   \n",
       "\n",
       "                                                    text      subject  \\\n",
       "23431  Tune in to the Alternate Current Radio Network...  Middle-east   \n",
       "23432   Truthstream MediaOut of 88 potential horrors ...  Middle-east   \n",
       "23433   21st Century Wire asks HAVE YOUR SHOUT: Apple...  Middle-east   \n",
       "23434  21st Century Wire says This is a new geopoliti...  Middle-east   \n",
       "23435  Patrick Henningsen 21st Century WireAs Baron R...  Middle-east   \n",
       "23436  Shawn Helton   21st Century WireWith the Unite...  Middle-east   \n",
       "23437  Randy Johnson 21st Century WireThe future is c...  Middle-east   \n",
       "23438  Tune in to the Alternate Current Radio Network...  Middle-east   \n",
       "23439  21st Century Wire says This latest diplomatic ...  Middle-east   \n",
       "23440   21st Century Wire says One TV personality Tru...  Middle-east   \n",
       "\n",
       "                    date  class  \n",
       "23431      March 3, 2016      0  \n",
       "23432  February 29, 2016      0  \n",
       "23433  February 27, 2016      0  \n",
       "23434  February 27, 2016      0  \n",
       "23435  February 26, 2016      0  \n",
       "23436  February 26, 2016      0  \n",
       "23437  February 25, 2016      0  \n",
       "23438  February 24, 2016      0  \n",
       "23439  February 24, 2016      0  \n",
       "23440  February 24, 2016      0  "
      ]
     },
     "execution_count": 20,
     "metadata": {},
     "output_type": "execute_result"
    }
   ],
   "source": [
    "test_df.head(10)"
   ]
  },
  {
   "cell_type": "markdown",
   "id": "8269abdd",
   "metadata": {},
   "source": [
    "Bỏ bớt một số cột không cần: title, subject và date"
   ]
  },
  {
   "cell_type": "code",
   "execution_count": 21,
   "id": "894ac4bd",
   "metadata": {},
   "outputs": [],
   "source": [
    "train_df = train_df.drop(['title', 'subject', 'date'], axis = 1)"
   ]
  },
  {
   "cell_type": "code",
   "execution_count": 22,
   "id": "de17285d",
   "metadata": {},
   "outputs": [],
   "source": [
    "test_df = test_df.drop(['title', 'subject', 'date'], axis = 1)"
   ]
  },
  {
   "cell_type": "code",
   "execution_count": 23,
   "id": "00f9e96f",
   "metadata": {},
   "outputs": [
    {
     "data": {
      "text/plain": [
       "(44798, 2)"
      ]
     },
     "execution_count": 23,
     "metadata": {},
     "output_type": "execute_result"
    }
   ],
   "source": [
    "train_df.shape"
   ]
  },
  {
   "cell_type": "code",
   "execution_count": 24,
   "id": "e17a4cca",
   "metadata": {},
   "outputs": [
    {
     "data": {
      "text/plain": [
       "(100, 2)"
      ]
     },
     "execution_count": 24,
     "metadata": {},
     "output_type": "execute_result"
    }
   ],
   "source": [
    "test_df.shape"
   ]
  },
  {
   "cell_type": "code",
   "execution_count": 25,
   "id": "915b3031",
   "metadata": {},
   "outputs": [
    {
     "data": {
      "text/plain": [
       "text     0\n",
       "class    0\n",
       "dtype: int64"
      ]
     },
     "execution_count": 25,
     "metadata": {},
     "output_type": "execute_result"
    }
   ],
   "source": [
    "train_df.isnull().sum()"
   ]
  },
  {
   "cell_type": "code",
   "execution_count": 26,
   "id": "feb453d4",
   "metadata": {},
   "outputs": [
    {
     "data": {
      "text/plain": [
       "text     0\n",
       "class    0\n",
       "dtype: int64"
      ]
     },
     "execution_count": 26,
     "metadata": {},
     "output_type": "execute_result"
    }
   ],
   "source": [
    "test_df.isnull().sum()"
   ]
  },
  {
   "cell_type": "markdown",
   "id": "45ffe224",
   "metadata": {},
   "source": [
    "Trộn ngẫu nhiên data trong train set"
   ]
  },
  {
   "cell_type": "code",
   "execution_count": 27,
   "id": "dc95551d",
   "metadata": {},
   "outputs": [],
   "source": [
    "train_df = train_df.sample(frac = 1, random_state = 42).reset_index(drop = True)"
   ]
  },
  {
   "cell_type": "code",
   "execution_count": 28,
   "id": "fa983cb2",
   "metadata": {
    "scrolled": true
   },
   "outputs": [
    {
     "data": {
      "text/html": [
       "<div>\n",
       "<style scoped>\n",
       "    .dataframe tbody tr th:only-of-type {\n",
       "        vertical-align: middle;\n",
       "    }\n",
       "\n",
       "    .dataframe tbody tr th {\n",
       "        vertical-align: top;\n",
       "    }\n",
       "\n",
       "    .dataframe thead th {\n",
       "        text-align: right;\n",
       "    }\n",
       "</style>\n",
       "<table border=\"1\" class=\"dataframe\">\n",
       "  <thead>\n",
       "    <tr style=\"text-align: right;\">\n",
       "      <th></th>\n",
       "      <th>text</th>\n",
       "      <th>class</th>\n",
       "    </tr>\n",
       "  </thead>\n",
       "  <tbody>\n",
       "    <tr>\n",
       "      <th>0</th>\n",
       "      <td>Shawn Helton 21st Century WireOn the eve of th...</td>\n",
       "      <td>0</td>\n",
       "    </tr>\n",
       "    <tr>\n",
       "      <th>1</th>\n",
       "      <td>WASHINGTON (Reuters) - Democratic presidential...</td>\n",
       "      <td>1</td>\n",
       "    </tr>\n",
       "    <tr>\n",
       "      <th>2</th>\n",
       "      <td>Join Patrick every Wednesday at Independent T...</td>\n",
       "      <td>0</td>\n",
       "    </tr>\n",
       "    <tr>\n",
       "      <th>3</th>\n",
       "      <td>Coming to a town near you A sign was hung in a...</td>\n",
       "      <td>0</td>\n",
       "    </tr>\n",
       "    <tr>\n",
       "      <th>4</th>\n",
       "      <td>NEW YORK (Reuters) - While Donald Trump’s poli...</td>\n",
       "      <td>1</td>\n",
       "    </tr>\n",
       "  </tbody>\n",
       "</table>\n",
       "</div>"
      ],
      "text/plain": [
       "                                                text  class\n",
       "0  Shawn Helton 21st Century WireOn the eve of th...      0\n",
       "1  WASHINGTON (Reuters) - Democratic presidential...      1\n",
       "2   Join Patrick every Wednesday at Independent T...      0\n",
       "3  Coming to a town near you A sign was hung in a...      0\n",
       "4  NEW YORK (Reuters) - While Donald Trump’s poli...      1"
      ]
     },
     "execution_count": 28,
     "metadata": {},
     "output_type": "execute_result"
    }
   ],
   "source": [
    "train_df.head()"
   ]
  },
  {
   "cell_type": "markdown",
   "id": "1f6bbfe3",
   "metadata": {},
   "source": [
    "Cũng làm y chang vậy với test set."
   ]
  },
  {
   "cell_type": "code",
   "execution_count": 29,
   "id": "c29775ad",
   "metadata": {},
   "outputs": [],
   "source": [
    "test_df = test_df.sample(frac = 1, random_state = 42).reset_index(drop = True)"
   ]
  },
  {
   "cell_type": "code",
   "execution_count": 30,
   "id": "27d5b8ac",
   "metadata": {},
   "outputs": [
    {
     "data": {
      "text/html": [
       "<div>\n",
       "<style scoped>\n",
       "    .dataframe tbody tr th:only-of-type {\n",
       "        vertical-align: middle;\n",
       "    }\n",
       "\n",
       "    .dataframe tbody tr th {\n",
       "        vertical-align: top;\n",
       "    }\n",
       "\n",
       "    .dataframe thead th {\n",
       "        text-align: right;\n",
       "    }\n",
       "</style>\n",
       "<table border=\"1\" class=\"dataframe\">\n",
       "  <thead>\n",
       "    <tr style=\"text-align: right;\">\n",
       "      <th></th>\n",
       "      <th>text</th>\n",
       "      <th>class</th>\n",
       "    </tr>\n",
       "  </thead>\n",
       "  <tbody>\n",
       "    <tr>\n",
       "      <th>0</th>\n",
       "      <td>LONDON (Reuters) - Abdul Daoud spilt most of t...</td>\n",
       "      <td>1</td>\n",
       "    </tr>\n",
       "    <tr>\n",
       "      <th>1</th>\n",
       "      <td>HELSINKI (Reuters) - Finnish police on Thursda...</td>\n",
       "      <td>1</td>\n",
       "    </tr>\n",
       "    <tr>\n",
       "      <th>2</th>\n",
       "      <td>TRIPOLI (Reuters) - Former Libyan Prime Minist...</td>\n",
       "      <td>1</td>\n",
       "    </tr>\n",
       "    <tr>\n",
       "      <th>3</th>\n",
       "      <td>21st Century Wire says As 21WIRE reported earl...</td>\n",
       "      <td>0</td>\n",
       "    </tr>\n",
       "    <tr>\n",
       "      <th>4</th>\n",
       "      <td>Robert Fantina CounterpunchAlthough the United...</td>\n",
       "      <td>0</td>\n",
       "    </tr>\n",
       "  </tbody>\n",
       "</table>\n",
       "</div>"
      ],
      "text/plain": [
       "                                                text  class\n",
       "0  LONDON (Reuters) - Abdul Daoud spilt most of t...      1\n",
       "1  HELSINKI (Reuters) - Finnish police on Thursda...      1\n",
       "2  TRIPOLI (Reuters) - Former Libyan Prime Minist...      1\n",
       "3  21st Century Wire says As 21WIRE reported earl...      0\n",
       "4  Robert Fantina CounterpunchAlthough the United...      0"
      ]
     },
     "execution_count": 30,
     "metadata": {},
     "output_type": "execute_result"
    }
   ],
   "source": [
    "test_df.head()"
   ]
  },
  {
   "cell_type": "markdown",
   "id": "cd20185b",
   "metadata": {},
   "source": [
    "Save dataframes vào file csv."
   ]
  },
  {
   "cell_type": "code",
   "execution_count": 31,
   "id": "ede8b9e1",
   "metadata": {},
   "outputs": [],
   "source": [
    "train_df.to_csv('dataset/train.csv')\n",
    "test_df.to_csv('dataset/test.csv')"
   ]
  }
 ],
 "metadata": {
  "kernelspec": {
   "display_name": "Python 3 (ipykernel)",
   "language": "python",
   "name": "python3"
  },
  "language_info": {
   "codemirror_mode": {
    "name": "ipython",
    "version": 3
   },
   "file_extension": ".py",
   "mimetype": "text/x-python",
   "name": "python",
   "nbconvert_exporter": "python",
   "pygments_lexer": "ipython3",
   "version": "3.9.7"
  }
 },
 "nbformat": 4,
 "nbformat_minor": 5
}
